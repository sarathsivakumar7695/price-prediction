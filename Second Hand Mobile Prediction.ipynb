{
 "cells": [
  {
   "cell_type": "code",
   "execution_count": 1,
   "id": "dcc9b337-f13d-4d37-92a7-3829a97582ec",
   "metadata": {},
   "outputs": [],
   "source": [
    "import pandas as pd\n",
    "import numpy as np"
   ]
  },
  {
   "cell_type": "code",
   "execution_count": 2,
   "id": "da090275-d925-45d8-8c37-717f2d5bc408",
   "metadata": {},
   "outputs": [],
   "source": [
    "import matplotlib.pyplot as plt\n",
    "import seaborn as sns"
   ]
  },
  {
   "cell_type": "code",
   "execution_count": 8,
   "id": "f4c0ef53-84dc-40ca-a003-09557d60214d",
   "metadata": {},
   "outputs": [],
   "source": [
    "df=pd.read_csv('Training_Data_Set.csv')"
   ]
  },
  {
   "cell_type": "code",
   "execution_count": 9,
   "id": "4b4d6602-e190-41d0-b622-0fe8e7757315",
   "metadata": {},
   "outputs": [
    {
     "data": {
      "text/html": [
       "<div>\n",
       "<style scoped>\n",
       "    .dataframe tbody tr th:only-of-type {\n",
       "        vertical-align: middle;\n",
       "    }\n",
       "\n",
       "    .dataframe tbody tr th {\n",
       "        vertical-align: top;\n",
       "    }\n",
       "\n",
       "    .dataframe thead th {\n",
       "        text-align: right;\n",
       "    }\n",
       "</style>\n",
       "<table border=\"1\" class=\"dataframe\">\n",
       "  <thead>\n",
       "    <tr style=\"text-align: right;\">\n",
       "      <th></th>\n",
       "      <th>Id</th>\n",
       "      <th>Maker</th>\n",
       "      <th>model</th>\n",
       "      <th>Location</th>\n",
       "      <th>Distance</th>\n",
       "      <th>Owner Type</th>\n",
       "      <th>manufacture_year</th>\n",
       "      <th>Age of car</th>\n",
       "      <th>engine_displacement</th>\n",
       "      <th>engine_power</th>\n",
       "      <th>body_type</th>\n",
       "      <th>Vroom Audit Rating</th>\n",
       "      <th>transmission</th>\n",
       "      <th>door_count</th>\n",
       "      <th>seat_count</th>\n",
       "      <th>fuel_type</th>\n",
       "      <th>Price</th>\n",
       "    </tr>\n",
       "  </thead>\n",
       "  <tbody>\n",
       "    <tr>\n",
       "      <th>0</th>\n",
       "      <td>25001</td>\n",
       "      <td>skoda</td>\n",
       "      <td>octavia</td>\n",
       "      <td>Ahmedabad</td>\n",
       "      <td>NaN</td>\n",
       "      <td>Second</td>\n",
       "      <td>1964</td>\n",
       "      <td>55</td>\n",
       "      <td>1964</td>\n",
       "      <td>147.0</td>\n",
       "      <td>compact</td>\n",
       "      <td>8</td>\n",
       "      <td>man</td>\n",
       "      <td>NaN</td>\n",
       "      <td>NaN</td>\n",
       "      <td>petrol</td>\n",
       "      <td>543764.25</td>\n",
       "    </tr>\n",
       "    <tr>\n",
       "      <th>1</th>\n",
       "      <td>25002</td>\n",
       "      <td>fiat</td>\n",
       "      <td>panda</td>\n",
       "      <td>Ahmedabad</td>\n",
       "      <td>27750.0</td>\n",
       "      <td>Third</td>\n",
       "      <td>2012</td>\n",
       "      <td>7</td>\n",
       "      <td>1242</td>\n",
       "      <td>51.0</td>\n",
       "      <td>NaN</td>\n",
       "      <td>6</td>\n",
       "      <td>man</td>\n",
       "      <td>4.0</td>\n",
       "      <td>4.0</td>\n",
       "      <td>petrol</td>\n",
       "      <td>401819.25</td>\n",
       "    </tr>\n",
       "    <tr>\n",
       "      <th>2</th>\n",
       "      <td>25003</td>\n",
       "      <td>bmw</td>\n",
       "      <td>x1</td>\n",
       "      <td>Hyderabad</td>\n",
       "      <td>46000.0</td>\n",
       "      <td>Third</td>\n",
       "      <td>2014</td>\n",
       "      <td>5</td>\n",
       "      <td>1995</td>\n",
       "      <td>105.0</td>\n",
       "      <td>NaN</td>\n",
       "      <td>7</td>\n",
       "      <td>auto</td>\n",
       "      <td>4.0</td>\n",
       "      <td>5.0</td>\n",
       "      <td>diesel</td>\n",
       "      <td>2392855.50</td>\n",
       "    </tr>\n",
       "    <tr>\n",
       "      <th>3</th>\n",
       "      <td>25004</td>\n",
       "      <td>nissan</td>\n",
       "      <td>juke</td>\n",
       "      <td>Mumbai</td>\n",
       "      <td>43949.0</td>\n",
       "      <td>Third</td>\n",
       "      <td>2011</td>\n",
       "      <td>8</td>\n",
       "      <td>1618</td>\n",
       "      <td>140.0</td>\n",
       "      <td>NaN</td>\n",
       "      <td>7</td>\n",
       "      <td>man</td>\n",
       "      <td>4.0</td>\n",
       "      <td>5.0</td>\n",
       "      <td>petrol</td>\n",
       "      <td>958606.50</td>\n",
       "    </tr>\n",
       "    <tr>\n",
       "      <th>4</th>\n",
       "      <td>25005</td>\n",
       "      <td>bmw</td>\n",
       "      <td>x5</td>\n",
       "      <td>Jaipur</td>\n",
       "      <td>59524.0</td>\n",
       "      <td>Fourth &amp; Above</td>\n",
       "      <td>2012</td>\n",
       "      <td>7</td>\n",
       "      <td>2993</td>\n",
       "      <td>180.0</td>\n",
       "      <td>NaN</td>\n",
       "      <td>7</td>\n",
       "      <td>auto</td>\n",
       "      <td>4.0</td>\n",
       "      <td>5.0</td>\n",
       "      <td>diesel</td>\n",
       "      <td>3085561.50</td>\n",
       "    </tr>\n",
       "    <tr>\n",
       "      <th>...</th>\n",
       "      <td>...</td>\n",
       "      <td>...</td>\n",
       "      <td>...</td>\n",
       "      <td>...</td>\n",
       "      <td>...</td>\n",
       "      <td>...</td>\n",
       "      <td>...</td>\n",
       "      <td>...</td>\n",
       "      <td>...</td>\n",
       "      <td>...</td>\n",
       "      <td>...</td>\n",
       "      <td>...</td>\n",
       "      <td>...</td>\n",
       "      <td>...</td>\n",
       "      <td>...</td>\n",
       "      <td>...</td>\n",
       "      <td>...</td>\n",
       "    </tr>\n",
       "    <tr>\n",
       "      <th>53510</th>\n",
       "      <td>78511</td>\n",
       "      <td>skoda</td>\n",
       "      <td>octavia</td>\n",
       "      <td>Delhi</td>\n",
       "      <td>29334.0</td>\n",
       "      <td>Fourth &amp; Above</td>\n",
       "      <td>2014</td>\n",
       "      <td>5</td>\n",
       "      <td>1598</td>\n",
       "      <td>77.0</td>\n",
       "      <td>NaN</td>\n",
       "      <td>4</td>\n",
       "      <td>man</td>\n",
       "      <td>4.0</td>\n",
       "      <td>5.0</td>\n",
       "      <td>diesel</td>\n",
       "      <td>1342996.50</td>\n",
       "    </tr>\n",
       "    <tr>\n",
       "      <th>53511</th>\n",
       "      <td>78512</td>\n",
       "      <td>skoda</td>\n",
       "      <td>octavia</td>\n",
       "      <td>Bangalore</td>\n",
       "      <td>223631.0</td>\n",
       "      <td>Fourth &amp; Above</td>\n",
       "      <td>2009</td>\n",
       "      <td>10</td>\n",
       "      <td>1900</td>\n",
       "      <td>77.0</td>\n",
       "      <td>NaN</td>\n",
       "      <td>8</td>\n",
       "      <td>man</td>\n",
       "      <td>5.0</td>\n",
       "      <td>5.0</td>\n",
       "      <td>diesel</td>\n",
       "      <td>510732.75</td>\n",
       "    </tr>\n",
       "    <tr>\n",
       "      <th>53512</th>\n",
       "      <td>78513</td>\n",
       "      <td>bmw</td>\n",
       "      <td>x1</td>\n",
       "      <td>Pune</td>\n",
       "      <td>25500.0</td>\n",
       "      <td>Third</td>\n",
       "      <td>2015</td>\n",
       "      <td>4</td>\n",
       "      <td>1995</td>\n",
       "      <td>105.0</td>\n",
       "      <td>NaN</td>\n",
       "      <td>4</td>\n",
       "      <td>auto</td>\n",
       "      <td>4.0</td>\n",
       "      <td>5.0</td>\n",
       "      <td>diesel</td>\n",
       "      <td>2008123.50</td>\n",
       "    </tr>\n",
       "    <tr>\n",
       "      <th>53513</th>\n",
       "      <td>78514</td>\n",
       "      <td>toyota</td>\n",
       "      <td>avensis</td>\n",
       "      <td>Jaipur</td>\n",
       "      <td>1195500.0</td>\n",
       "      <td>Third</td>\n",
       "      <td>2011</td>\n",
       "      <td>8</td>\n",
       "      <td>11950</td>\n",
       "      <td>93.0</td>\n",
       "      <td>compact</td>\n",
       "      <td>5</td>\n",
       "      <td>man</td>\n",
       "      <td>NaN</td>\n",
       "      <td>NaN</td>\n",
       "      <td>diesel</td>\n",
       "      <td>874352.25</td>\n",
       "    </tr>\n",
       "    <tr>\n",
       "      <th>53514</th>\n",
       "      <td>78515</td>\n",
       "      <td>bmw</td>\n",
       "      <td>x5</td>\n",
       "      <td>Kochi</td>\n",
       "      <td>142000.0</td>\n",
       "      <td>First</td>\n",
       "      <td>2008</td>\n",
       "      <td>11</td>\n",
       "      <td>2993</td>\n",
       "      <td>173.0</td>\n",
       "      <td>NaN</td>\n",
       "      <td>4</td>\n",
       "      <td>auto</td>\n",
       "      <td>5.0</td>\n",
       "      <td>5.0</td>\n",
       "      <td>diesel</td>\n",
       "      <td>1576610.25</td>\n",
       "    </tr>\n",
       "  </tbody>\n",
       "</table>\n",
       "<p>53515 rows × 17 columns</p>\n",
       "</div>"
      ],
      "text/plain": [
       "          Id   Maker    model   Location  Distance       Owner Type  \\\n",
       "0      25001   skoda  octavia  Ahmedabad        NaN          Second   \n",
       "1      25002    fiat    panda  Ahmedabad    27750.0           Third   \n",
       "2      25003     bmw       x1  Hyderabad    46000.0           Third   \n",
       "3      25004  nissan     juke     Mumbai    43949.0           Third   \n",
       "4      25005     bmw       x5     Jaipur    59524.0  Fourth & Above   \n",
       "...      ...     ...      ...        ...        ...             ...   \n",
       "53510  78511   skoda  octavia      Delhi    29334.0  Fourth & Above   \n",
       "53511  78512   skoda  octavia  Bangalore   223631.0  Fourth & Above   \n",
       "53512  78513     bmw       x1       Pune    25500.0           Third   \n",
       "53513  78514  toyota  avensis     Jaipur  1195500.0           Third   \n",
       "53514  78515     bmw       x5      Kochi   142000.0           First   \n",
       "\n",
       "       manufacture_year  Age of car  engine_displacement  engine_power  \\\n",
       "0                  1964          55                 1964         147.0   \n",
       "1                  2012           7                 1242          51.0   \n",
       "2                  2014           5                 1995         105.0   \n",
       "3                  2011           8                 1618         140.0   \n",
       "4                  2012           7                 2993         180.0   \n",
       "...                 ...         ...                  ...           ...   \n",
       "53510              2014           5                 1598          77.0   \n",
       "53511              2009          10                 1900          77.0   \n",
       "53512              2015           4                 1995         105.0   \n",
       "53513              2011           8                11950          93.0   \n",
       "53514              2008          11                 2993         173.0   \n",
       "\n",
       "      body_type  Vroom Audit Rating transmission  door_count  seat_count  \\\n",
       "0       compact                   8          man         NaN         NaN   \n",
       "1           NaN                   6          man         4.0         4.0   \n",
       "2           NaN                   7         auto         4.0         5.0   \n",
       "3           NaN                   7          man         4.0         5.0   \n",
       "4           NaN                   7         auto         4.0         5.0   \n",
       "...         ...                 ...          ...         ...         ...   \n",
       "53510       NaN                   4          man         4.0         5.0   \n",
       "53511       NaN                   8          man         5.0         5.0   \n",
       "53512       NaN                   4         auto         4.0         5.0   \n",
       "53513   compact                   5          man         NaN         NaN   \n",
       "53514       NaN                   4         auto         5.0         5.0   \n",
       "\n",
       "      fuel_type       Price  \n",
       "0        petrol   543764.25  \n",
       "1        petrol   401819.25  \n",
       "2        diesel  2392855.50  \n",
       "3        petrol   958606.50  \n",
       "4        diesel  3085561.50  \n",
       "...         ...         ...  \n",
       "53510    diesel  1342996.50  \n",
       "53511    diesel   510732.75  \n",
       "53512    diesel  2008123.50  \n",
       "53513    diesel   874352.25  \n",
       "53514    diesel  1576610.25  \n",
       "\n",
       "[53515 rows x 17 columns]"
      ]
     },
     "execution_count": 9,
     "metadata": {},
     "output_type": "execute_result"
    }
   ],
   "source": [
    "df"
   ]
  },
  {
   "cell_type": "code",
   "execution_count": 10,
   "id": "06a22a93-33b1-47fc-95b9-0bdaf64bd25b",
   "metadata": {
    "scrolled": true
   },
   "outputs": [
    {
     "data": {
      "image/png": "[encoded data removed]",
      "text/plain": [
       "<Figure size 640x480 with 1 Axes>"
      ]
     },
     "metadata": {},
     "output_type": "display_data"
    }
   ],
   "source": [
    "df.boxplot()\n",
    "plt.show()"
   ]
  },
  {
   "cell_type": "code",
   "execution_count": null,
   "id": "3b27bbe7-9631-413e-b659-dc4edc1d3c70",
   "metadata": {},
   "outputs": [],
   "source": []
  },
  {
   "cell_type": "code",
   "execution_count": null,
   "id": "6c88f0bf-599a-44e6-bfe3-b81a182bbefd",
   "metadata": {},
   "outputs": [],
   "source": []
  },
  {
   "cell_type": "code",
   "execution_count": 11,
   "id": "d31cffd2-c6d6-4cd2-9eff-528225dc2c71",
   "metadata": {
    "scrolled": true
   },
   "outputs": [
    {
     "data": {
      "text/plain": [
       "Id                         0\n",
       "Maker                      0\n",
       "model                      0\n",
       "Location                   0\n",
       "Distance                1211\n",
       "Owner Type                 0\n",
       "manufacture_year           0\n",
       "Age of car                 0\n",
       "engine_displacement        0\n",
       "engine_power            1439\n",
       "body_type              49379\n",
       "Vroom Audit Rating         0\n",
       "transmission               0\n",
       "door_count              7534\n",
       "seat_count              8511\n",
       "fuel_type                  0\n",
       "Price                      0\n",
       "dtype: int64"
      ]
     },
     "execution_count": 11,
     "metadata": {},
     "output_type": "execute_result"
    }
   ],
   "source": [
    "df.isnull().sum()"
   ]
  },
  {
   "cell_type": "code",
   "execution_count": 12,
   "id": "707a245f-02b9-4c21-9f0a-17eb4ec16dc3",
   "metadata": {},
   "outputs": [],
   "source": [
    "del df['body_type']    # df.drop(column='body_type',inplace=True) "
   ]
  },
  {
   "cell_type": "code",
   "execution_count": 13,
   "id": "f526f41c-2c81-4fde-ae2d-0ceacbef0a4a",
   "metadata": {},
   "outputs": [
    {
     "data": {
      "text/plain": [
       "Id                        0\n",
       "Maker                     0\n",
       "model                     0\n",
       "Location                  0\n",
       "Distance               1211\n",
       "Owner Type                0\n",
       "manufacture_year          0\n",
       "Age of car                0\n",
       "engine_displacement       0\n",
       "engine_power           1439\n",
       "Vroom Audit Rating        0\n",
       "transmission              0\n",
       "door_count             7534\n",
       "seat_count             8511\n",
       "fuel_type                 0\n",
       "Price                     0\n",
       "dtype: int64"
      ]
     },
     "execution_count": 13,
     "metadata": {},
     "output_type": "execute_result"
    }
   ],
   "source": [
    "df.isnull().sum()"
   ]
  },
  {
   "cell_type": "code",
   "execution_count": null,
   "id": "b486d84a-ab0d-4f69-9ca3-6e46b6c5303b",
   "metadata": {},
   "outputs": [],
   "source": []
  },
  {
   "cell_type": "code",
   "execution_count": null,
   "id": "ca476178-5254-49c6-8e6a-08d80a7bbf2c",
   "metadata": {},
   "outputs": [],
   "source": []
  },
  {
   "cell_type": "code",
   "execution_count": 14,
   "id": "0e8f0d5f-6fc6-40a2-9a47-126acbf79a46",
   "metadata": {},
   "outputs": [],
   "source": [
    "  #   df.dropna()"
   ]
  },
  {
   "cell_type": "code",
   "execution_count": 15,
   "id": "3b2de96e-8d9a-42d1-80b4-e37fd60e809e",
   "metadata": {},
   "outputs": [
    {
     "name": "stderr",
     "output_type": "stream",
     "text": [
      "C:\\Users\\RAJESH KANNAN\\AppData\\Local\\Temp\\ipykernel_1476\\2970458654.py:1: FutureWarning: A value is trying to be set on a copy of a DataFrame or Series through chained assignment using an inplace method.\n",
      "The behavior will change in pandas 3.0. This inplace method will never work because the intermediate object on which we are setting values always behaves as a copy.\n",
      "\n",
      "For example, when doing 'df[col].method(value, inplace=True)', try using 'df.method({col: value}, inplace=True)' or df[col] = df[col].method(value) instead, to perform the operation inplace on the original object.\n",
      "\n",
      "\n",
      "  df['Distance '].fillna(df['Distance '].median(),inplace=True)\n"
     ]
    }
   ],
   "source": [
    "df['Distance '].fillna(df['Distance '].median(),inplace=True)"
   ]
  },
  {
   "cell_type": "code",
   "execution_count": 16,
   "id": "f26d2466-3661-45bf-82d9-1dd975535fe5",
   "metadata": {},
   "outputs": [
    {
     "name": "stderr",
     "output_type": "stream",
     "text": [
      "C:\\Users\\RAJESH KANNAN\\AppData\\Local\\Temp\\ipykernel_1476\\3563742412.py:1: FutureWarning: A value is trying to be set on a copy of a DataFrame or Series through chained assignment using an inplace method.\n",
      "The behavior will change in pandas 3.0. This inplace method will never work because the intermediate object on which we are setting values always behaves as a copy.\n",
      "\n",
      "For example, when doing 'df[col].method(value, inplace=True)', try using 'df.method({col: value}, inplace=True)' or df[col] = df[col].method(value) instead, to perform the operation inplace on the original object.\n",
      "\n",
      "\n",
      "  df['engine_power'].fillna(df['engine_power'].median(),inplace=True)\n"
     ]
    }
   ],
   "source": [
    "df['engine_power'].fillna(df['engine_power'].median(),inplace=True)"
   ]
  },
  {
   "cell_type": "code",
   "execution_count": 17,
   "id": "7649a2c0-d408-4a42-9aa1-d62e03bab575",
   "metadata": {},
   "outputs": [],
   "source": [
    "import warnings\n",
    "warnings.filterwarnings('ignore')"
   ]
  },
  {
   "cell_type": "code",
   "execution_count": 18,
   "id": "52b5e507-3701-4b93-8019-e34cae3939da",
   "metadata": {},
   "outputs": [],
   "source": [
    "df['door_count'].fillna(df['door_count'].mode()[0],inplace=True)"
   ]
  },
  {
   "cell_type": "code",
   "execution_count": 19,
   "id": "21a2b350-39ea-4ec6-8545-a385f0d42e82",
   "metadata": {},
   "outputs": [],
   "source": [
    "df['seat_count'].fillna(df['seat_count'].mode()[0],inplace=True)"
   ]
  },
  {
   "cell_type": "code",
   "execution_count": 20,
   "id": "5cdf6381-9713-44f6-8bb5-bffd9db2b856",
   "metadata": {},
   "outputs": [
    {
     "data": {
      "text/plain": [
       "Id                     0\n",
       "Maker                  0\n",
       "model                  0\n",
       "Location               0\n",
       "Distance               0\n",
       "Owner Type             0\n",
       "manufacture_year       0\n",
       "Age of car             0\n",
       "engine_displacement    0\n",
       "engine_power           0\n",
       "Vroom Audit Rating     0\n",
       "transmission           0\n",
       "door_count             0\n",
       "seat_count             0\n",
       "fuel_type              0\n",
       "Price                  0\n",
       "dtype: int64"
      ]
     },
     "execution_count": 20,
     "metadata": {},
     "output_type": "execute_result"
    }
   ],
   "source": [
    "df.isnull().sum()"
   ]
  },
  {
   "cell_type": "code",
   "execution_count": 21,
   "id": "05f451df-4d1b-4389-91b3-6220a12dbdf1",
   "metadata": {},
   "outputs": [
    {
     "data": {
      "text/plain": [
       "np.int64(0)"
      ]
     },
     "execution_count": 21,
     "metadata": {},
     "output_type": "execute_result"
    }
   ],
   "source": [
    "df.duplicated().sum()"
   ]
  },
  {
   "cell_type": "code",
   "execution_count": 22,
   "id": "08335fc4-ec43-402c-91fd-71616000c1ad",
   "metadata": {},
   "outputs": [
    {
     "data": {
      "image/png": "[encoded data removed]",
      "text/plain": [
       "<Figure size 640x480 with 1 Axes>"
      ]
     },
     "metadata": {},
     "output_type": "display_data"
    }
   ],
   "source": [
    "df.boxplot()\n",
    "plt.show()"
   ]
  },
  {
   "cell_type": "code",
   "execution_count": 23,
   "id": "ccac40ab-e7e1-4008-904f-6b39a08512a9",
   "metadata": {},
   "outputs": [],
   "source": [
    "df_cat=df.select_dtypes(include=object)"
   ]
  },
  {
   "cell_type": "code",
   "execution_count": 24,
   "id": "1afd3657-3544-4cb2-a20d-7a4104bc04a1",
   "metadata": {},
   "outputs": [],
   "source": [
    "df_num=df.select_dtypes(exclude=object)"
   ]
  },
  {
   "cell_type": "code",
   "execution_count": 25,
   "id": "1e921d34-6fd3-4c08-958a-7a58b169dcc4",
   "metadata": {
    "scrolled": true
   },
   "outputs": [
    {
     "data": {
      "text/html": [
       "<div>\n",
       "<style scoped>\n",
       "    .dataframe tbody tr th:only-of-type {\n",
       "        vertical-align: middle;\n",
       "    }\n",
       "\n",
       "    .dataframe tbody tr th {\n",
       "        vertical-align: top;\n",
       "    }\n",
       "\n",
       "    .dataframe thead th {\n",
       "        text-align: right;\n",
       "    }\n",
       "</style>\n",
       "<table border=\"1\" class=\"dataframe\">\n",
       "  <thead>\n",
       "    <tr style=\"text-align: right;\">\n",
       "      <th></th>\n",
       "      <th>Maker</th>\n",
       "      <th>model</th>\n",
       "      <th>Location</th>\n",
       "      <th>Owner Type</th>\n",
       "      <th>transmission</th>\n",
       "      <th>fuel_type</th>\n",
       "    </tr>\n",
       "  </thead>\n",
       "  <tbody>\n",
       "    <tr>\n",
       "      <th>0</th>\n",
       "      <td>skoda</td>\n",
       "      <td>octavia</td>\n",
       "      <td>Ahmedabad</td>\n",
       "      <td>Second</td>\n",
       "      <td>man</td>\n",
       "      <td>petrol</td>\n",
       "    </tr>\n",
       "    <tr>\n",
       "      <th>1</th>\n",
       "      <td>fiat</td>\n",
       "      <td>panda</td>\n",
       "      <td>Ahmedabad</td>\n",
       "      <td>Third</td>\n",
       "      <td>man</td>\n",
       "      <td>petrol</td>\n",
       "    </tr>\n",
       "    <tr>\n",
       "      <th>2</th>\n",
       "      <td>bmw</td>\n",
       "      <td>x1</td>\n",
       "      <td>Hyderabad</td>\n",
       "      <td>Third</td>\n",
       "      <td>auto</td>\n",
       "      <td>diesel</td>\n",
       "    </tr>\n",
       "    <tr>\n",
       "      <th>3</th>\n",
       "      <td>nissan</td>\n",
       "      <td>juke</td>\n",
       "      <td>Mumbai</td>\n",
       "      <td>Third</td>\n",
       "      <td>man</td>\n",
       "      <td>petrol</td>\n",
       "    </tr>\n",
       "    <tr>\n",
       "      <th>4</th>\n",
       "      <td>bmw</td>\n",
       "      <td>x5</td>\n",
       "      <td>Jaipur</td>\n",
       "      <td>Fourth &amp; Above</td>\n",
       "      <td>auto</td>\n",
       "      <td>diesel</td>\n",
       "    </tr>\n",
       "    <tr>\n",
       "      <th>...</th>\n",
       "      <td>...</td>\n",
       "      <td>...</td>\n",
       "      <td>...</td>\n",
       "      <td>...</td>\n",
       "      <td>...</td>\n",
       "      <td>...</td>\n",
       "    </tr>\n",
       "    <tr>\n",
       "      <th>53510</th>\n",
       "      <td>skoda</td>\n",
       "      <td>octavia</td>\n",
       "      <td>Delhi</td>\n",
       "      <td>Fourth &amp; Above</td>\n",
       "      <td>man</td>\n",
       "      <td>diesel</td>\n",
       "    </tr>\n",
       "    <tr>\n",
       "      <th>53511</th>\n",
       "      <td>skoda</td>\n",
       "      <td>octavia</td>\n",
       "      <td>Bangalore</td>\n",
       "      <td>Fourth &amp; Above</td>\n",
       "      <td>man</td>\n",
       "      <td>diesel</td>\n",
       "    </tr>\n",
       "    <tr>\n",
       "      <th>53512</th>\n",
       "      <td>bmw</td>\n",
       "      <td>x1</td>\n",
       "      <td>Pune</td>\n",
       "      <td>Third</td>\n",
       "      <td>auto</td>\n",
       "      <td>diesel</td>\n",
       "    </tr>\n",
       "    <tr>\n",
       "      <th>53513</th>\n",
       "      <td>toyota</td>\n",
       "      <td>avensis</td>\n",
       "      <td>Jaipur</td>\n",
       "      <td>Third</td>\n",
       "      <td>man</td>\n",
       "      <td>diesel</td>\n",
       "    </tr>\n",
       "    <tr>\n",
       "      <th>53514</th>\n",
       "      <td>bmw</td>\n",
       "      <td>x5</td>\n",
       "      <td>Kochi</td>\n",
       "      <td>First</td>\n",
       "      <td>auto</td>\n",
       "      <td>diesel</td>\n",
       "    </tr>\n",
       "  </tbody>\n",
       "</table>\n",
       "<p>53515 rows × 6 columns</p>\n",
       "</div>"
      ],
      "text/plain": [
       "        Maker    model   Location      Owner Type transmission fuel_type\n",
       "0       skoda  octavia  Ahmedabad          Second          man    petrol\n",
       "1        fiat    panda  Ahmedabad           Third          man    petrol\n",
       "2         bmw       x1  Hyderabad           Third         auto    diesel\n",
       "3      nissan     juke     Mumbai           Third          man    petrol\n",
       "4         bmw       x5     Jaipur  Fourth & Above         auto    diesel\n",
       "...       ...      ...        ...             ...          ...       ...\n",
       "53510   skoda  octavia      Delhi  Fourth & Above          man    diesel\n",
       "53511   skoda  octavia  Bangalore  Fourth & Above          man    diesel\n",
       "53512     bmw       x1       Pune           Third         auto    diesel\n",
       "53513  toyota  avensis     Jaipur           Third          man    diesel\n",
       "53514     bmw       x5      Kochi           First         auto    diesel\n",
       "\n",
       "[53515 rows x 6 columns]"
      ]
     },
     "execution_count": 25,
     "metadata": {},
     "output_type": "execute_result"
    }
   ],
   "source": [
    "df_cat"
   ]
  },
  {
   "cell_type": "code",
   "execution_count": 26,
   "id": "9033dcca-d5ec-40e0-b656-3be476f6541e",
   "metadata": {},
   "outputs": [
    {
     "data": {
      "text/html": [
       "<div>\n",
       "<style scoped>\n",
       "    .dataframe tbody tr th:only-of-type {\n",
       "        vertical-align: middle;\n",
       "    }\n",
       "\n",
       "    .dataframe tbody tr th {\n",
       "        vertical-align: top;\n",
       "    }\n",
       "\n",
       "    .dataframe thead th {\n",
       "        text-align: right;\n",
       "    }\n",
       "</style>\n",
       "<table border=\"1\" class=\"dataframe\">\n",
       "  <thead>\n",
       "    <tr style=\"text-align: right;\">\n",
       "      <th></th>\n",
       "      <th>Id</th>\n",
       "      <th>Distance</th>\n",
       "      <th>manufacture_year</th>\n",
       "      <th>Age of car</th>\n",
       "      <th>engine_displacement</th>\n",
       "      <th>engine_power</th>\n",
       "      <th>Vroom Audit Rating</th>\n",
       "      <th>door_count</th>\n",
       "      <th>seat_count</th>\n",
       "      <th>Price</th>\n",
       "    </tr>\n",
       "  </thead>\n",
       "  <tbody>\n",
       "    <tr>\n",
       "      <th>0</th>\n",
       "      <td>25001</td>\n",
       "      <td>65520.0</td>\n",
       "      <td>1964</td>\n",
       "      <td>55</td>\n",
       "      <td>1964</td>\n",
       "      <td>147.0</td>\n",
       "      <td>8</td>\n",
       "      <td>4.0</td>\n",
       "      <td>5.0</td>\n",
       "      <td>543764.25</td>\n",
       "    </tr>\n",
       "    <tr>\n",
       "      <th>1</th>\n",
       "      <td>25002</td>\n",
       "      <td>27750.0</td>\n",
       "      <td>2012</td>\n",
       "      <td>7</td>\n",
       "      <td>1242</td>\n",
       "      <td>51.0</td>\n",
       "      <td>6</td>\n",
       "      <td>4.0</td>\n",
       "      <td>4.0</td>\n",
       "      <td>401819.25</td>\n",
       "    </tr>\n",
       "    <tr>\n",
       "      <th>2</th>\n",
       "      <td>25003</td>\n",
       "      <td>46000.0</td>\n",
       "      <td>2014</td>\n",
       "      <td>5</td>\n",
       "      <td>1995</td>\n",
       "      <td>105.0</td>\n",
       "      <td>7</td>\n",
       "      <td>4.0</td>\n",
       "      <td>5.0</td>\n",
       "      <td>2392855.50</td>\n",
       "    </tr>\n",
       "    <tr>\n",
       "      <th>3</th>\n",
       "      <td>25004</td>\n",
       "      <td>43949.0</td>\n",
       "      <td>2011</td>\n",
       "      <td>8</td>\n",
       "      <td>1618</td>\n",
       "      <td>140.0</td>\n",
       "      <td>7</td>\n",
       "      <td>4.0</td>\n",
       "      <td>5.0</td>\n",
       "      <td>958606.50</td>\n",
       "    </tr>\n",
       "    <tr>\n",
       "      <th>4</th>\n",
       "      <td>25005</td>\n",
       "      <td>59524.0</td>\n",
       "      <td>2012</td>\n",
       "      <td>7</td>\n",
       "      <td>2993</td>\n",
       "      <td>180.0</td>\n",
       "      <td>7</td>\n",
       "      <td>4.0</td>\n",
       "      <td>5.0</td>\n",
       "      <td>3085561.50</td>\n",
       "    </tr>\n",
       "    <tr>\n",
       "      <th>...</th>\n",
       "      <td>...</td>\n",
       "      <td>...</td>\n",
       "      <td>...</td>\n",
       "      <td>...</td>\n",
       "      <td>...</td>\n",
       "      <td>...</td>\n",
       "      <td>...</td>\n",
       "      <td>...</td>\n",
       "      <td>...</td>\n",
       "      <td>...</td>\n",
       "    </tr>\n",
       "    <tr>\n",
       "      <th>53510</th>\n",
       "      <td>78511</td>\n",
       "      <td>29334.0</td>\n",
       "      <td>2014</td>\n",
       "      <td>5</td>\n",
       "      <td>1598</td>\n",
       "      <td>77.0</td>\n",
       "      <td>4</td>\n",
       "      <td>4.0</td>\n",
       "      <td>5.0</td>\n",
       "      <td>1342996.50</td>\n",
       "    </tr>\n",
       "    <tr>\n",
       "      <th>53511</th>\n",
       "      <td>78512</td>\n",
       "      <td>223631.0</td>\n",
       "      <td>2009</td>\n",
       "      <td>10</td>\n",
       "      <td>1900</td>\n",
       "      <td>77.0</td>\n",
       "      <td>8</td>\n",
       "      <td>5.0</td>\n",
       "      <td>5.0</td>\n",
       "      <td>510732.75</td>\n",
       "    </tr>\n",
       "    <tr>\n",
       "      <th>53512</th>\n",
       "      <td>78513</td>\n",
       "      <td>25500.0</td>\n",
       "      <td>2015</td>\n",
       "      <td>4</td>\n",
       "      <td>1995</td>\n",
       "      <td>105.0</td>\n",
       "      <td>4</td>\n",
       "      <td>4.0</td>\n",
       "      <td>5.0</td>\n",
       "      <td>2008123.50</td>\n",
       "    </tr>\n",
       "    <tr>\n",
       "      <th>53513</th>\n",
       "      <td>78514</td>\n",
       "      <td>1195500.0</td>\n",
       "      <td>2011</td>\n",
       "      <td>8</td>\n",
       "      <td>11950</td>\n",
       "      <td>93.0</td>\n",
       "      <td>5</td>\n",
       "      <td>4.0</td>\n",
       "      <td>5.0</td>\n",
       "      <td>874352.25</td>\n",
       "    </tr>\n",
       "    <tr>\n",
       "      <th>53514</th>\n",
       "      <td>78515</td>\n",
       "      <td>142000.0</td>\n",
       "      <td>2008</td>\n",
       "      <td>11</td>\n",
       "      <td>2993</td>\n",
       "      <td>173.0</td>\n",
       "      <td>4</td>\n",
       "      <td>5.0</td>\n",
       "      <td>5.0</td>\n",
       "      <td>1576610.25</td>\n",
       "    </tr>\n",
       "  </tbody>\n",
       "</table>\n",
       "<p>53515 rows × 10 columns</p>\n",
       "</div>"
      ],
      "text/plain": [
       "          Id  Distance   manufacture_year  Age of car  engine_displacement  \\\n",
       "0      25001    65520.0              1964          55                 1964   \n",
       "1      25002    27750.0              2012           7                 1242   \n",
       "2      25003    46000.0              2014           5                 1995   \n",
       "3      25004    43949.0              2011           8                 1618   \n",
       "4      25005    59524.0              2012           7                 2993   \n",
       "...      ...        ...               ...         ...                  ...   \n",
       "53510  78511    29334.0              2014           5                 1598   \n",
       "53511  78512   223631.0              2009          10                 1900   \n",
       "53512  78513    25500.0              2015           4                 1995   \n",
       "53513  78514  1195500.0              2011           8                11950   \n",
       "53514  78515   142000.0              2008          11                 2993   \n",
       "\n",
       "       engine_power  Vroom Audit Rating  door_count  seat_count       Price  \n",
       "0             147.0                   8         4.0         5.0   543764.25  \n",
       "1              51.0                   6         4.0         4.0   401819.25  \n",
       "2             105.0                   7         4.0         5.0  2392855.50  \n",
       "3             140.0                   7         4.0         5.0   958606.50  \n",
       "4             180.0                   7         4.0         5.0  3085561.50  \n",
       "...             ...                 ...         ...         ...         ...  \n",
       "53510          77.0                   4         4.0         5.0  1342996.50  \n",
       "53511          77.0                   8         5.0         5.0   510732.75  \n",
       "53512         105.0                   4         4.0         5.0  2008123.50  \n",
       "53513          93.0                   5         4.0         5.0   874352.25  \n",
       "53514         173.0                   4         5.0         5.0  1576610.25  \n",
       "\n",
       "[53515 rows x 10 columns]"
      ]
     },
     "execution_count": 26,
     "metadata": {},
     "output_type": "execute_result"
    }
   ],
   "source": [
    "df_num"
   ]
  },
  {
   "cell_type": "code",
   "execution_count": 27,
   "id": "7fb355b2-564c-4109-b30e-dce0c5b1dd26",
   "metadata": {},
   "outputs": [
    {
     "data": {
      "text/plain": [
       "Index(['Maker', 'model', 'Location', 'Owner Type', 'transmission',\n",
       "       'fuel_type'],\n",
       "      dtype='object')"
      ]
     },
     "execution_count": 27,
     "metadata": {},
     "output_type": "execute_result"
    }
   ],
   "source": [
    "df_cat.columns"
   ]
  },
  {
   "cell_type": "code",
   "execution_count": 28,
   "id": "94c6557e-ef16-4554-bfe3-3a7e8a271c3c",
   "metadata": {},
   "outputs": [],
   "source": [
    "from sklearn.preprocessing import LabelEncoder\n",
    "le=LabelEncoder()"
   ]
  },
  {
   "cell_type": "code",
   "execution_count": 29,
   "id": "8fdd3e67-e60b-4e6c-a818-c9517f1464f5",
   "metadata": {},
   "outputs": [
    {
     "data": {
      "text/plain": [
       "Index(['Maker', 'model', 'Location', 'Owner Type', 'transmission',\n",
       "       'fuel_type'],\n",
       "      dtype='object')"
      ]
     },
     "execution_count": 29,
     "metadata": {},
     "output_type": "execute_result"
    }
   ],
   "source": [
    "df_cat.columns"
   ]
  },
  {
   "cell_type": "code",
   "execution_count": 30,
   "id": "5b27cc33-d9ff-4f05-b70f-f04f8fbfc359",
   "metadata": {},
   "outputs": [],
   "source": [
    "df_cat['Maker']=le.fit_transform(df_cat['Maker'])"
   ]
  },
  {
   "cell_type": "code",
   "execution_count": 31,
   "id": "69176e93-cd80-4903-955f-2c3f97189796",
   "metadata": {},
   "outputs": [],
   "source": [
    "df_cat['model']=le.fit_transform(df_cat['model'])"
   ]
  },
  {
   "cell_type": "code",
   "execution_count": 32,
   "id": "64eb838c-5a79-4e94-b3c8-596bbac854f9",
   "metadata": {},
   "outputs": [],
   "source": [
    "df_cat['Location']=le.fit_transform(df_cat['Location'])"
   ]
  },
  {
   "cell_type": "code",
   "execution_count": 33,
   "id": "9c73d185-c111-4241-b87f-8c89e81db0d7",
   "metadata": {},
   "outputs": [],
   "source": [
    "df_cat['Owner Type']=le.fit_transform(df_cat['Owner Type'])"
   ]
  },
  {
   "cell_type": "code",
   "execution_count": 34,
   "id": "cd85a185-fa23-44a1-aad2-3f6c2860cacf",
   "metadata": {},
   "outputs": [],
   "source": [
    "df_cat['transmission']=le.fit_transform(df_cat['transmission'])"
   ]
  },
  {
   "cell_type": "code",
   "execution_count": 35,
   "id": "0684c02d-e405-4202-98ea-fd7695a9e50e",
   "metadata": {},
   "outputs": [],
   "source": [
    "df_cat['fuel_type']=le.fit_transform(df_cat['fuel_type'])"
   ]
  },
  {
   "cell_type": "code",
   "execution_count": 36,
   "id": "bdada57a-299b-4123-9473-504ea940f177",
   "metadata": {},
   "outputs": [],
   "source": [
    "df=pd.concat([df_cat,df_num],axis=1)"
   ]
  },
  {
   "cell_type": "code",
   "execution_count": 37,
   "id": "aa71bcf2-22a8-462a-b3ff-714f755fdfb9",
   "metadata": {},
   "outputs": [
    {
     "data": {
      "text/plain": [
       "Index(['Maker', 'model', 'Location', 'Owner Type', 'transmission', 'fuel_type',\n",
       "       'Id', 'Distance ', 'manufacture_year', 'Age of car',\n",
       "       'engine_displacement', 'engine_power', 'Vroom Audit Rating',\n",
       "       'door_count', 'seat_count', 'Price'],\n",
       "      dtype='object')"
      ]
     },
     "execution_count": 37,
     "metadata": {},
     "output_type": "execute_result"
    }
   ],
   "source": [
    "df.columns"
   ]
  },
  {
   "cell_type": "code",
   "execution_count": 38,
   "id": "48b45092-8c2c-4963-9a7e-4537b7b6f2b2",
   "metadata": {},
   "outputs": [
    {
     "data": {
      "image/png": "[encoded data removed]",
      "text/plain": [
       "<Figure size 2500x1000 with 1 Axes>"
      ]
     },
     "metadata": {},
     "output_type": "display_data"
    }
   ],
   "source": [
    "df.boxplot(figsize=(25,10))\n",
    "plt.show()"
   ]
  },
  {
   "cell_type": "code",
   "execution_count": 39,
   "id": "0cc34b5d-77bb-4ce4-9947-fa26c4f1f3e3",
   "metadata": {},
   "outputs": [
    {
     "data": {
      "text/plain": [
       "Index(['Maker', 'model', 'Location', 'Owner Type', 'transmission', 'fuel_type',\n",
       "       'Id', 'Distance ', 'manufacture_year', 'Age of car',\n",
       "       'engine_displacement', 'engine_power', 'Vroom Audit Rating',\n",
       "       'door_count', 'seat_count', 'Price'],\n",
       "      dtype='object')"
      ]
     },
     "execution_count": 39,
     "metadata": {},
     "output_type": "execute_result"
    }
   ],
   "source": [
    "df.columns"
   ]
  },
  {
   "cell_type": "code",
   "execution_count": null,
   "id": "902db70e-3491-4eec-b7cf-e5ab264de3d4",
   "metadata": {},
   "outputs": [],
   "source": []
  },
  {
   "cell_type": "code",
   "execution_count": 40,
   "id": "fb141eb2-c83c-432d-8e82-197a119e04cf",
   "metadata": {},
   "outputs": [],
   "source": [
    "df_nonoutlayer=df[['Maker', 'model', 'Location', 'Owner Type', 'transmission', 'fuel_type',\n",
    "       'Id','Vroom Audit Rating', 'Price']]"
   ]
  },
  {
   "cell_type": "code",
   "execution_count": 41,
   "id": "d1ee831c-cdcd-4fbe-a450-81347a423493",
   "metadata": {},
   "outputs": [],
   "source": [
    "df_outlayer=df[['Distance ','manufacture_year','Age of car','engine_displacement', 'engine_power','door_count', 'seat_count']]"
   ]
  },
  {
   "cell_type": "code",
   "execution_count": 42,
   "id": "628e9bca-0825-41b1-b6b7-5b68c12054e5",
   "metadata": {},
   "outputs": [
    {
     "data": {
      "image/png": "[encoded data removed]",
      "text/plain": [
       "<Figure size 640x480 with 1 Axes>"
      ]
     },
     "metadata": {},
     "output_type": "display_data"
    }
   ],
   "source": [
    "df_nonoutlayer.boxplot()\n",
    "plt.show()"
   ]
  },
  {
   "cell_type": "code",
   "execution_count": 43,
   "id": "c2f6d598-74b6-43ef-b95a-3fea22568afe",
   "metadata": {
    "scrolled": true
   },
   "outputs": [
    {
     "data": {
      "image/png": "[encoded data removed]",
      "text/plain": [
       "<Figure size 640x480 with 1 Axes>"
      ]
     },
     "metadata": {},
     "output_type": "display_data"
    }
   ],
   "source": [
    "df_outlayer.boxplot()\n",
    "plt.show()"
   ]
  },
  {
   "cell_type": "code",
   "execution_count": 44,
   "id": "94f62d66-5c53-49f0-a8e4-b95e39a4573e",
   "metadata": {},
   "outputs": [],
   "source": [
    "z=(df_outlayer-df_outlayer.mean())/df_outlayer.std()             # z=(df-df.mean())/df.std()"
   ]
  },
  {
   "cell_type": "code",
   "execution_count": 45,
   "id": "bb1c7d48-d553-4a6d-ba87-c0263188716f",
   "metadata": {
    "scrolled": true
   },
   "outputs": [
    {
     "data": {
      "image/png": "[encoded data removed]",
      "text/plain": [
       "<Figure size 640x480 with 1 Axes>"
      ]
     },
     "metadata": {},
     "output_type": "display_data"
    }
   ],
   "source": [
    "z.boxplot()\n",
    "plt.show()"
   ]
  },
  {
   "cell_type": "code",
   "execution_count": 46,
   "id": "6b9f4466-01fd-43be-a774-265d594add40",
   "metadata": {},
   "outputs": [],
   "source": [
    "z_reduce=z[(z>-2)&(z<2)]"
   ]
  },
  {
   "cell_type": "code",
   "execution_count": 47,
   "id": "38df7b55-d4c2-488a-a24e-035ef05407c7",
   "metadata": {},
   "outputs": [
    {
     "data": {
      "image/png": "[encoded data removed]",
      "text/plain": [
       "<Figure size 640x480 with 1 Axes>"
      ]
     },
     "metadata": {},
     "output_type": "display_data"
    }
   ],
   "source": [
    "z_reduce.boxplot()\n",
    "plt.show()"
   ]
  },
  {
   "cell_type": "code",
   "execution_count": 48,
   "id": "ced1176c-0096-4615-ab2f-655a766b8223",
   "metadata": {},
   "outputs": [
    {
     "data": {
      "text/plain": [
       "Distance                158\n",
       "manufacture_year       2803\n",
       "Age of car             2803\n",
       "engine_displacement     498\n",
       "engine_power           2512\n",
       "door_count             4358\n",
       "seat_count             1713\n",
       "dtype: int64"
      ]
     },
     "execution_count": 48,
     "metadata": {},
     "output_type": "execute_result"
    }
   ],
   "source": [
    "z_reduce.isna().sum()"
   ]
  },
  {
   "cell_type": "code",
   "execution_count": null,
   "id": "ae16e835-a78d-46d6-b9f5-b4e08ae29e63",
   "metadata": {},
   "outputs": [],
   "source": []
  },
  {
   "cell_type": "code",
   "execution_count": 49,
   "id": "030494ad-cc62-4e9a-ab7a-84b6771e3e85",
   "metadata": {},
   "outputs": [],
   "source": [
    "z_reduce['door_count'].fillna(z_reduce['door_count'].mode()[0],inplace=True)"
   ]
  },
  {
   "cell_type": "code",
   "execution_count": 50,
   "id": "0af580fe-f948-404b-adf9-d64e99e5723d",
   "metadata": {},
   "outputs": [],
   "source": [
    "z_reduce['Distance '].fillna(z_reduce['Distance '].median(),inplace=True)"
   ]
  },
  {
   "cell_type": "code",
   "execution_count": 51,
   "id": "56994c4e-6bee-4408-99f6-93d9f8654fa7",
   "metadata": {},
   "outputs": [],
   "source": [
    "z_reduce['Age of car'].fillna(z_reduce['Age of car'].median(),inplace=True)"
   ]
  },
  {
   "cell_type": "code",
   "execution_count": 52,
   "id": "3be1aa5b-2f5d-4e7e-8802-1cbfd044579a",
   "metadata": {},
   "outputs": [],
   "source": [
    "z_reduce['engine_displacement'].fillna(z_reduce['engine_displacement'].median(),inplace=True)"
   ]
  },
  {
   "cell_type": "code",
   "execution_count": 53,
   "id": "853e045d-87d8-4bc7-88e7-0bc3a5b80e5a",
   "metadata": {},
   "outputs": [],
   "source": [
    "z_reduce['engine_power'].fillna(z_reduce['engine_power'].median(),inplace=True)"
   ]
  },
  {
   "cell_type": "code",
   "execution_count": 54,
   "id": "ab174691-01cc-443e-b116-06c672ef1636",
   "metadata": {},
   "outputs": [],
   "source": [
    "z_reduce['seat_count'].fillna(z_reduce['seat_count'].mode()[0],inplace=True)"
   ]
  },
  {
   "cell_type": "code",
   "execution_count": 55,
   "id": "07fc2448-6e2d-4753-b61a-318d5d35926a",
   "metadata": {},
   "outputs": [],
   "source": [
    "z_reduce['manufacture_year'].fillna(z_reduce['manufacture_year'].median(),inplace=True)"
   ]
  },
  {
   "cell_type": "code",
   "execution_count": null,
   "id": "b3fd0cb4-3321-4c60-8e39-61b94176a122",
   "metadata": {},
   "outputs": [],
   "source": []
  },
  {
   "cell_type": "code",
   "execution_count": 56,
   "id": "c7da40bc-06f0-42e2-832e-1ae0f0e9b56f",
   "metadata": {},
   "outputs": [
    {
     "data": {
      "text/html": [
       "<div>\n",
       "<style scoped>\n",
       "    .dataframe tbody tr th:only-of-type {\n",
       "        vertical-align: middle;\n",
       "    }\n",
       "\n",
       "    .dataframe tbody tr th {\n",
       "        vertical-align: top;\n",
       "    }\n",
       "\n",
       "    .dataframe thead th {\n",
       "        text-align: right;\n",
       "    }\n",
       "</style>\n",
       "<table border=\"1\" class=\"dataframe\">\n",
       "  <thead>\n",
       "    <tr style=\"text-align: right;\">\n",
       "      <th></th>\n",
       "      <th>Distance</th>\n",
       "      <th>manufacture_year</th>\n",
       "      <th>Age of car</th>\n",
       "      <th>engine_displacement</th>\n",
       "      <th>engine_power</th>\n",
       "      <th>door_count</th>\n",
       "      <th>seat_count</th>\n",
       "    </tr>\n",
       "  </thead>\n",
       "  <tbody>\n",
       "    <tr>\n",
       "      <th>0</th>\n",
       "      <td>-0.104123</td>\n",
       "      <td>0.342318</td>\n",
       "      <td>-0.342318</td>\n",
       "      <td>0.040059</td>\n",
       "      <td>1.046099</td>\n",
       "      <td>0.033774</td>\n",
       "      <td>0.184493</td>\n",
       "    </tr>\n",
       "    <tr>\n",
       "      <th>1</th>\n",
       "      <td>-0.242749</td>\n",
       "      <td>0.342318</td>\n",
       "      <td>-0.342318</td>\n",
       "      <td>-0.442379</td>\n",
       "      <td>-1.099483</td>\n",
       "      <td>0.033774</td>\n",
       "      <td>-1.741594</td>\n",
       "    </tr>\n",
       "    <tr>\n",
       "      <th>2</th>\n",
       "      <td>-0.175767</td>\n",
       "      <td>0.772396</td>\n",
       "      <td>-0.772396</td>\n",
       "      <td>0.060773</td>\n",
       "      <td>0.107407</td>\n",
       "      <td>0.033774</td>\n",
       "      <td>0.184493</td>\n",
       "    </tr>\n",
       "    <tr>\n",
       "      <th>3</th>\n",
       "      <td>-0.183294</td>\n",
       "      <td>0.127279</td>\n",
       "      <td>-0.127279</td>\n",
       "      <td>-0.191137</td>\n",
       "      <td>0.889650</td>\n",
       "      <td>0.033774</td>\n",
       "      <td>0.184493</td>\n",
       "    </tr>\n",
       "    <tr>\n",
       "      <th>4</th>\n",
       "      <td>-0.126130</td>\n",
       "      <td>0.342318</td>\n",
       "      <td>-0.342318</td>\n",
       "      <td>0.727634</td>\n",
       "      <td>1.783643</td>\n",
       "      <td>0.033774</td>\n",
       "      <td>0.184493</td>\n",
       "    </tr>\n",
       "    <tr>\n",
       "      <th>...</th>\n",
       "      <td>...</td>\n",
       "      <td>...</td>\n",
       "      <td>...</td>\n",
       "      <td>...</td>\n",
       "      <td>...</td>\n",
       "      <td>...</td>\n",
       "      <td>...</td>\n",
       "    </tr>\n",
       "    <tr>\n",
       "      <th>53510</th>\n",
       "      <td>-0.236935</td>\n",
       "      <td>0.772396</td>\n",
       "      <td>-0.772396</td>\n",
       "      <td>-0.204501</td>\n",
       "      <td>-0.518388</td>\n",
       "      <td>0.033774</td>\n",
       "      <td>0.184493</td>\n",
       "    </tr>\n",
       "    <tr>\n",
       "      <th>53511</th>\n",
       "      <td>0.476186</td>\n",
       "      <td>-0.302798</td>\n",
       "      <td>0.302798</td>\n",
       "      <td>-0.002706</td>\n",
       "      <td>-0.518388</td>\n",
       "      <td>1.490207</td>\n",
       "      <td>0.184493</td>\n",
       "    </tr>\n",
       "    <tr>\n",
       "      <th>53512</th>\n",
       "      <td>-0.251007</td>\n",
       "      <td>0.987435</td>\n",
       "      <td>-0.987435</td>\n",
       "      <td>0.060773</td>\n",
       "      <td>0.107407</td>\n",
       "      <td>0.033774</td>\n",
       "      <td>0.184493</td>\n",
       "    </tr>\n",
       "    <tr>\n",
       "      <th>53513</th>\n",
       "      <td>-0.104123</td>\n",
       "      <td>0.127279</td>\n",
       "      <td>-0.127279</td>\n",
       "      <td>-0.005378</td>\n",
       "      <td>-0.160791</td>\n",
       "      <td>0.033774</td>\n",
       "      <td>0.184493</td>\n",
       "    </tr>\n",
       "    <tr>\n",
       "      <th>53514</th>\n",
       "      <td>0.176578</td>\n",
       "      <td>-0.517837</td>\n",
       "      <td>0.517837</td>\n",
       "      <td>0.727634</td>\n",
       "      <td>1.627194</td>\n",
       "      <td>1.490207</td>\n",
       "      <td>0.184493</td>\n",
       "    </tr>\n",
       "  </tbody>\n",
       "</table>\n",
       "<p>53515 rows × 7 columns</p>\n",
       "</div>"
      ],
      "text/plain": [
       "       Distance   manufacture_year  Age of car  engine_displacement  \\\n",
       "0      -0.104123          0.342318   -0.342318             0.040059   \n",
       "1      -0.242749          0.342318   -0.342318            -0.442379   \n",
       "2      -0.175767          0.772396   -0.772396             0.060773   \n",
       "3      -0.183294          0.127279   -0.127279            -0.191137   \n",
       "4      -0.126130          0.342318   -0.342318             0.727634   \n",
       "...          ...               ...         ...                  ...   \n",
       "53510  -0.236935          0.772396   -0.772396            -0.204501   \n",
       "53511   0.476186         -0.302798    0.302798            -0.002706   \n",
       "53512  -0.251007          0.987435   -0.987435             0.060773   \n",
       "53513  -0.104123          0.127279   -0.127279            -0.005378   \n",
       "53514   0.176578         -0.517837    0.517837             0.727634   \n",
       "\n",
       "       engine_power  door_count  seat_count  \n",
       "0          1.046099    0.033774    0.184493  \n",
       "1         -1.099483    0.033774   -1.741594  \n",
       "2          0.107407    0.033774    0.184493  \n",
       "3          0.889650    0.033774    0.184493  \n",
       "4          1.783643    0.033774    0.184493  \n",
       "...             ...         ...         ...  \n",
       "53510     -0.518388    0.033774    0.184493  \n",
       "53511     -0.518388    1.490207    0.184493  \n",
       "53512      0.107407    0.033774    0.184493  \n",
       "53513     -0.160791    0.033774    0.184493  \n",
       "53514      1.627194    1.490207    0.184493  \n",
       "\n",
       "[53515 rows x 7 columns]"
      ]
     },
     "execution_count": 56,
     "metadata": {},
     "output_type": "execute_result"
    }
   ],
   "source": [
    "z_reduce"
   ]
  },
  {
   "cell_type": "code",
   "execution_count": null,
   "id": "153c48a1-2553-41f1-90f1-746e24dd11ec",
   "metadata": {},
   "outputs": [],
   "source": []
  },
  {
   "cell_type": "code",
   "execution_count": 57,
   "id": "dce72b9e-cb1a-4baa-a822-31bd96d49e3b",
   "metadata": {},
   "outputs": [
    {
     "data": {
      "image/png": "[encoded data removed]",
      "text/plain": [
       "<Figure size 640x480 with 1 Axes>"
      ]
     },
     "metadata": {},
     "output_type": "display_data"
    }
   ],
   "source": [
    "df=pd.concat([z_reduce,df_nonoutlayer],axis=1)\n",
    "df.boxplot()\n",
    "plt.show()"
   ]
  },
  {
   "cell_type": "code",
   "execution_count": 58,
   "id": "13e9c013-500b-4dd6-82ec-a2164dc14848",
   "metadata": {},
   "outputs": [
    {
     "data": {
      "text/plain": [
       "Distance               0\n",
       "manufacture_year       0\n",
       "Age of car             0\n",
       "engine_displacement    0\n",
       "engine_power           0\n",
       "door_count             0\n",
       "seat_count             0\n",
       "Maker                  0\n",
       "model                  0\n",
       "Location               0\n",
       "Owner Type             0\n",
       "transmission           0\n",
       "fuel_type              0\n",
       "Id                     0\n",
       "Vroom Audit Rating     0\n",
       "Price                  0\n",
       "dtype: int64"
      ]
     },
     "execution_count": 58,
     "metadata": {},
     "output_type": "execute_result"
    }
   ],
   "source": [
    "df.isna().sum()"
   ]
  },
  {
   "cell_type": "code",
   "execution_count": 59,
   "id": "e4091236-7ba4-494a-8906-8bb0d612e211",
   "metadata": {},
   "outputs": [
    {
     "data": {
      "text/html": [
       "<div>\n",
       "<style scoped>\n",
       "    .dataframe tbody tr th:only-of-type {\n",
       "        vertical-align: middle;\n",
       "    }\n",
       "\n",
       "    .dataframe tbody tr th {\n",
       "        vertical-align: top;\n",
       "    }\n",
       "\n",
       "    .dataframe thead th {\n",
       "        text-align: right;\n",
       "    }\n",
       "</style>\n",
       "<table border=\"1\" class=\"dataframe\">\n",
       "  <thead>\n",
       "    <tr style=\"text-align: right;\">\n",
       "      <th></th>\n",
       "      <th>Price</th>\n",
       "    </tr>\n",
       "  </thead>\n",
       "  <tbody>\n",
       "    <tr>\n",
       "      <th>0</th>\n",
       "      <td>543764.25</td>\n",
       "    </tr>\n",
       "    <tr>\n",
       "      <th>1</th>\n",
       "      <td>401819.25</td>\n",
       "    </tr>\n",
       "    <tr>\n",
       "      <th>2</th>\n",
       "      <td>2392855.50</td>\n",
       "    </tr>\n",
       "    <tr>\n",
       "      <th>3</th>\n",
       "      <td>958606.50</td>\n",
       "    </tr>\n",
       "    <tr>\n",
       "      <th>4</th>\n",
       "      <td>3085561.50</td>\n",
       "    </tr>\n",
       "    <tr>\n",
       "      <th>...</th>\n",
       "      <td>...</td>\n",
       "    </tr>\n",
       "    <tr>\n",
       "      <th>53510</th>\n",
       "      <td>1342996.50</td>\n",
       "    </tr>\n",
       "    <tr>\n",
       "      <th>53511</th>\n",
       "      <td>510732.75</td>\n",
       "    </tr>\n",
       "    <tr>\n",
       "      <th>53512</th>\n",
       "      <td>2008123.50</td>\n",
       "    </tr>\n",
       "    <tr>\n",
       "      <th>53513</th>\n",
       "      <td>874352.25</td>\n",
       "    </tr>\n",
       "    <tr>\n",
       "      <th>53514</th>\n",
       "      <td>1576610.25</td>\n",
       "    </tr>\n",
       "  </tbody>\n",
       "</table>\n",
       "<p>53515 rows × 1 columns</p>\n",
       "</div>"
      ],
      "text/plain": [
       "            Price\n",
       "0       543764.25\n",
       "1       401819.25\n",
       "2      2392855.50\n",
       "3       958606.50\n",
       "4      3085561.50\n",
       "...           ...\n",
       "53510  1342996.50\n",
       "53511   510732.75\n",
       "53512  2008123.50\n",
       "53513   874352.25\n",
       "53514  1576610.25\n",
       "\n",
       "[53515 rows x 1 columns]"
      ]
     },
     "execution_count": 59,
     "metadata": {},
     "output_type": "execute_result"
    }
   ],
   "source": [
    "df_price=df[['Price']]\n",
    "df_price"
   ]
  },
  {
   "cell_type": "code",
   "execution_count": null,
   "id": "070a5336-5882-405c-8791-dfbdad03f8a9",
   "metadata": {},
   "outputs": [],
   "source": []
  },
  {
   "cell_type": "code",
   "execution_count": 60,
   "id": "771c7a26-c1a2-427b-beb1-18e5a0517f8f",
   "metadata": {},
   "outputs": [],
   "source": [
    "del df['Price']"
   ]
  },
  {
   "cell_type": "code",
   "execution_count": 61,
   "id": "94899de2-d10f-40d1-b1ab-5500e9835008",
   "metadata": {},
   "outputs": [],
   "source": [
    "# from sklearn.preprocessing import MinMaxScaler\n",
    "# mms=MinMaxScaler()"
   ]
  },
  {
   "cell_type": "code",
   "execution_count": 62,
   "id": "651d01e2-d3d7-4f79-937a-0ce1af655f38",
   "metadata": {},
   "outputs": [],
   "source": [
    "# df_norm=pd.DataFrame(mms.fit_transform(df),columns=df.columns)"
   ]
  },
  {
   "cell_type": "code",
   "execution_count": 63,
   "id": "d321bf43-7f84-4877-afc8-61da03cc5bf8",
   "metadata": {},
   "outputs": [],
   "source": [
    "# df_norm"
   ]
  },
  {
   "cell_type": "code",
   "execution_count": 64,
   "id": "5f13cbda-32c9-4558-83c4-a7fc525663fb",
   "metadata": {},
   "outputs": [],
   "source": [
    "from sklearn.preprocessing import StandardScaler\n",
    "ss=StandardScaler()"
   ]
  },
  {
   "cell_type": "code",
   "execution_count": 65,
   "id": "ab8eabcd-cbba-47f2-8d5b-616cee9257cc",
   "metadata": {},
   "outputs": [],
   "source": [
    "df_norm=pd.DataFrame(ss.fit_transform(df),columns=df.columns)"
   ]
  },
  {
   "cell_type": "code",
   "execution_count": 66,
   "id": "2c16e110-7bb6-42b6-9dcd-7b72d9a7f03d",
   "metadata": {},
   "outputs": [
    {
     "data": {
      "text/html": [
       "<div>\n",
       "<style scoped>\n",
       "    .dataframe tbody tr th:only-of-type {\n",
       "        vertical-align: middle;\n",
       "    }\n",
       "\n",
       "    .dataframe tbody tr th {\n",
       "        vertical-align: top;\n",
       "    }\n",
       "\n",
       "    .dataframe thead th {\n",
       "        text-align: right;\n",
       "    }\n",
       "</style>\n",
       "<table border=\"1\" class=\"dataframe\">\n",
       "  <thead>\n",
       "    <tr style=\"text-align: right;\">\n",
       "      <th></th>\n",
       "      <th>Distance</th>\n",
       "      <th>manufacture_year</th>\n",
       "      <th>Age of car</th>\n",
       "      <th>engine_displacement</th>\n",
       "      <th>engine_power</th>\n",
       "      <th>door_count</th>\n",
       "      <th>seat_count</th>\n",
       "      <th>Maker</th>\n",
       "      <th>model</th>\n",
       "      <th>Location</th>\n",
       "      <th>Owner Type</th>\n",
       "      <th>transmission</th>\n",
       "      <th>fuel_type</th>\n",
       "      <th>Id</th>\n",
       "      <th>Vroom Audit Rating</th>\n",
       "    </tr>\n",
       "  </thead>\n",
       "  <tbody>\n",
       "    <tr>\n",
       "      <th>0</th>\n",
       "      <td>-0.218796</td>\n",
       "      <td>0.251291</td>\n",
       "      <td>-0.251291</td>\n",
       "      <td>0.299088</td>\n",
       "      <td>1.581457</td>\n",
       "      <td>-0.390873</td>\n",
       "      <td>0.301785</td>\n",
       "      <td>0.670441</td>\n",
       "      <td>-0.525379</td>\n",
       "      <td>-1.586828</td>\n",
       "      <td>0.447065</td>\n",
       "      <td>0.675888</td>\n",
       "      <td>1.030417</td>\n",
       "      <td>-1.732018</td>\n",
       "      <td>1.411263</td>\n",
       "    </tr>\n",
       "    <tr>\n",
       "      <th>1</th>\n",
       "      <td>-0.712295</td>\n",
       "      <td>0.251291</td>\n",
       "      <td>-0.251291</td>\n",
       "      <td>-0.978806</td>\n",
       "      <td>-1.297673</td>\n",
       "      <td>-0.390873</td>\n",
       "      <td>-3.313620</td>\n",
       "      <td>-0.895167</td>\n",
       "      <td>-0.363222</td>\n",
       "      <td>-1.586828</td>\n",
       "      <td>1.340911</td>\n",
       "      <td>0.675888</td>\n",
       "      <td>1.030417</td>\n",
       "      <td>-1.731954</td>\n",
       "      <td>0.001146</td>\n",
       "    </tr>\n",
       "    <tr>\n",
       "      <th>2</th>\n",
       "      <td>-0.473842</td>\n",
       "      <td>0.824320</td>\n",
       "      <td>-0.824320</td>\n",
       "      <td>0.353956</td>\n",
       "      <td>0.321837</td>\n",
       "      <td>-0.390873</td>\n",
       "      <td>0.301785</td>\n",
       "      <td>-1.286569</td>\n",
       "      <td>1.096195</td>\n",
       "      <td>-0.003090</td>\n",
       "      <td>1.340911</td>\n",
       "      <td>-1.479535</td>\n",
       "      <td>-0.970481</td>\n",
       "      <td>-1.731889</td>\n",
       "      <td>0.706204</td>\n",
       "    </tr>\n",
       "    <tr>\n",
       "      <th>3</th>\n",
       "      <td>-0.500641</td>\n",
       "      <td>-0.035223</td>\n",
       "      <td>0.035223</td>\n",
       "      <td>-0.313310</td>\n",
       "      <td>1.371520</td>\n",
       "      <td>-0.390873</td>\n",
       "      <td>0.301785</td>\n",
       "      <td>0.279039</td>\n",
       "      <td>-0.849694</td>\n",
       "      <td>1.263901</td>\n",
       "      <td>1.340911</td>\n",
       "      <td>0.675888</td>\n",
       "      <td>1.030417</td>\n",
       "      <td>-1.731824</td>\n",
       "      <td>0.706204</td>\n",
       "    </tr>\n",
       "    <tr>\n",
       "      <th>4</th>\n",
       "      <td>-0.297139</td>\n",
       "      <td>0.251291</td>\n",
       "      <td>-0.251291</td>\n",
       "      <td>2.120352</td>\n",
       "      <td>2.571157</td>\n",
       "      <td>-0.390873</td>\n",
       "      <td>0.301785</td>\n",
       "      <td>-1.286569</td>\n",
       "      <td>1.420509</td>\n",
       "      <td>0.313658</td>\n",
       "      <td>-0.446781</td>\n",
       "      <td>-1.479535</td>\n",
       "      <td>-0.970481</td>\n",
       "      <td>-1.731760</td>\n",
       "      <td>0.706204</td>\n",
       "    </tr>\n",
       "    <tr>\n",
       "      <th>...</th>\n",
       "      <td>...</td>\n",
       "      <td>...</td>\n",
       "      <td>...</td>\n",
       "      <td>...</td>\n",
       "      <td>...</td>\n",
       "      <td>...</td>\n",
       "      <td>...</td>\n",
       "      <td>...</td>\n",
       "      <td>...</td>\n",
       "      <td>...</td>\n",
       "      <td>...</td>\n",
       "      <td>...</td>\n",
       "      <td>...</td>\n",
       "      <td>...</td>\n",
       "      <td>...</td>\n",
       "    </tr>\n",
       "    <tr>\n",
       "      <th>53510</th>\n",
       "      <td>-0.691599</td>\n",
       "      <td>0.824320</td>\n",
       "      <td>-0.824320</td>\n",
       "      <td>-0.348709</td>\n",
       "      <td>-0.517909</td>\n",
       "      <td>-0.390873</td>\n",
       "      <td>0.301785</td>\n",
       "      <td>0.670441</td>\n",
       "      <td>-0.525379</td>\n",
       "      <td>-0.319837</td>\n",
       "      <td>-0.446781</td>\n",
       "      <td>0.675888</td>\n",
       "      <td>-0.970481</td>\n",
       "      <td>1.731760</td>\n",
       "      <td>-1.408970</td>\n",
       "    </tr>\n",
       "    <tr>\n",
       "      <th>53511</th>\n",
       "      <td>1.847068</td>\n",
       "      <td>-0.608252</td>\n",
       "      <td>0.608252</td>\n",
       "      <td>0.185812</td>\n",
       "      <td>-0.517909</td>\n",
       "      <td>2.418742</td>\n",
       "      <td>0.301785</td>\n",
       "      <td>0.670441</td>\n",
       "      <td>-0.525379</td>\n",
       "      <td>-1.270080</td>\n",
       "      <td>-0.446781</td>\n",
       "      <td>0.675888</td>\n",
       "      <td>-0.970481</td>\n",
       "      <td>1.731824</td>\n",
       "      <td>1.411263</td>\n",
       "    </tr>\n",
       "    <tr>\n",
       "      <th>53512</th>\n",
       "      <td>-0.741693</td>\n",
       "      <td>1.110834</td>\n",
       "      <td>-1.110834</td>\n",
       "      <td>0.353956</td>\n",
       "      <td>0.321837</td>\n",
       "      <td>-0.390873</td>\n",
       "      <td>0.301785</td>\n",
       "      <td>-1.286569</td>\n",
       "      <td>1.096195</td>\n",
       "      <td>1.580648</td>\n",
       "      <td>1.340911</td>\n",
       "      <td>-1.479535</td>\n",
       "      <td>-0.970481</td>\n",
       "      <td>1.731889</td>\n",
       "      <td>-1.408970</td>\n",
       "    </tr>\n",
       "    <tr>\n",
       "      <th>53513</th>\n",
       "      <td>-0.218796</td>\n",
       "      <td>-0.035223</td>\n",
       "      <td>0.035223</td>\n",
       "      <td>0.178732</td>\n",
       "      <td>-0.038054</td>\n",
       "      <td>-0.390873</td>\n",
       "      <td>0.301785</td>\n",
       "      <td>1.061843</td>\n",
       "      <td>-1.660480</td>\n",
       "      <td>0.313658</td>\n",
       "      <td>1.340911</td>\n",
       "      <td>0.675888</td>\n",
       "      <td>-0.970481</td>\n",
       "      <td>1.731954</td>\n",
       "      <td>-0.703912</td>\n",
       "    </tr>\n",
       "    <tr>\n",
       "      <th>53514</th>\n",
       "      <td>0.780485</td>\n",
       "      <td>-0.894767</td>\n",
       "      <td>0.894767</td>\n",
       "      <td>2.120352</td>\n",
       "      <td>2.361221</td>\n",
       "      <td>2.418742</td>\n",
       "      <td>0.301785</td>\n",
       "      <td>-1.286569</td>\n",
       "      <td>1.420509</td>\n",
       "      <td>0.630406</td>\n",
       "      <td>-1.340627</td>\n",
       "      <td>-1.479535</td>\n",
       "      <td>-0.970481</td>\n",
       "      <td>1.732018</td>\n",
       "      <td>-1.408970</td>\n",
       "    </tr>\n",
       "  </tbody>\n",
       "</table>\n",
       "<p>53515 rows × 15 columns</p>\n",
       "</div>"
      ],
      "text/plain": [
       "       Distance   manufacture_year  Age of car  engine_displacement  \\\n",
       "0      -0.218796          0.251291   -0.251291             0.299088   \n",
       "1      -0.712295          0.251291   -0.251291            -0.978806   \n",
       "2      -0.473842          0.824320   -0.824320             0.353956   \n",
       "3      -0.500641         -0.035223    0.035223            -0.313310   \n",
       "4      -0.297139          0.251291   -0.251291             2.120352   \n",
       "...          ...               ...         ...                  ...   \n",
       "53510  -0.691599          0.824320   -0.824320            -0.348709   \n",
       "53511   1.847068         -0.608252    0.608252             0.185812   \n",
       "53512  -0.741693          1.110834   -1.110834             0.353956   \n",
       "53513  -0.218796         -0.035223    0.035223             0.178732   \n",
       "53514   0.780485         -0.894767    0.894767             2.120352   \n",
       "\n",
       "       engine_power  door_count  seat_count     Maker     model  Location  \\\n",
       "0          1.581457   -0.390873    0.301785  0.670441 -0.525379 -1.586828   \n",
       "1         -1.297673   -0.390873   -3.313620 -0.895167 -0.363222 -1.586828   \n",
       "2          0.321837   -0.390873    0.301785 -1.286569  1.096195 -0.003090   \n",
       "3          1.371520   -0.390873    0.301785  0.279039 -0.849694  1.263901   \n",
       "4          2.571157   -0.390873    0.301785 -1.286569  1.420509  0.313658   \n",
       "...             ...         ...         ...       ...       ...       ...   \n",
       "53510     -0.517909   -0.390873    0.301785  0.670441 -0.525379 -0.319837   \n",
       "53511     -0.517909    2.418742    0.301785  0.670441 -0.525379 -1.270080   \n",
       "53512      0.321837   -0.390873    0.301785 -1.286569  1.096195  1.580648   \n",
       "53513     -0.038054   -0.390873    0.301785  1.061843 -1.660480  0.313658   \n",
       "53514      2.361221    2.418742    0.301785 -1.286569  1.420509  0.630406   \n",
       "\n",
       "       Owner Type  transmission  fuel_type        Id  Vroom Audit Rating  \n",
       "0        0.447065      0.675888   1.030417 -1.732018            1.411263  \n",
       "1        1.340911      0.675888   1.030417 -1.731954            0.001146  \n",
       "2        1.340911     -1.479535  -0.970481 -1.731889            0.706204  \n",
       "3        1.340911      0.675888   1.030417 -1.731824            0.706204  \n",
       "4       -0.446781     -1.479535  -0.970481 -1.731760            0.706204  \n",
       "...           ...           ...        ...       ...                 ...  \n",
       "53510   -0.446781      0.675888  -0.970481  1.731760           -1.408970  \n",
       "53511   -0.446781      0.675888  -0.970481  1.731824            1.411263  \n",
       "53512    1.340911     -1.479535  -0.970481  1.731889           -1.408970  \n",
       "53513    1.340911      0.675888  -0.970481  1.731954           -0.703912  \n",
       "53514   -1.340627     -1.479535  -0.970481  1.732018           -1.408970  \n",
       "\n",
       "[53515 rows x 15 columns]"
      ]
     },
     "execution_count": 66,
     "metadata": {},
     "output_type": "execute_result"
    }
   ],
   "source": [
    "df_norm"
   ]
  },
  {
   "cell_type": "code",
   "execution_count": 76,
   "id": "e0e5c16b-1def-4021-a986-7549e69d2a6f",
   "metadata": {},
   "outputs": [],
   "source": [
    "df=pd.concat([df_norm,df_price],axis=1)"
   ]
  },
  {
   "cell_type": "code",
   "execution_count": 77,
   "id": "b3e4fcf7-40fd-4e61-a409-a2feb6f5baf4",
   "metadata": {},
   "outputs": [
    {
     "data": {
      "text/plain": [
       "Distance               0\n",
       "manufacture_year       0\n",
       "Age of car             0\n",
       "engine_displacement    0\n",
       "engine_power           0\n",
       "door_count             0\n",
       "seat_count             0\n",
       "Maker                  0\n",
       "model                  0\n",
       "Location               0\n",
       "Owner Type             0\n",
       "transmission           0\n",
       "fuel_type              0\n",
       "Id                     0\n",
       "Vroom Audit Rating     0\n",
       "Price                  0\n",
       "dtype: int64"
      ]
     },
     "execution_count": 77,
     "metadata": {},
     "output_type": "execute_result"
    }
   ],
   "source": [
    "df.isna().sum()"
   ]
  },
  {
   "cell_type": "code",
   "execution_count": 78,
   "id": "2950f2d6-a846-49d9-b720-f0ccc5cb5b1a",
   "metadata": {},
   "outputs": [],
   "source": [
    "from sklearn.linear_model import LinearRegression\n",
    "model=LinearRegression()"
   ]
  },
  {
   "cell_type": "code",
   "execution_count": 79,
   "id": "aa59fb3b-116a-4618-96f0-799fe33798fe",
   "metadata": {},
   "outputs": [],
   "source": [
    "X=df[['Distance ', 'manufacture_year', 'Age of car', 'engine_displacement',\n",
    "       'engine_power', 'door_count', 'seat_count', 'Maker', 'model',\n",
    "       'Location', 'Owner Type', 'transmission', 'fuel_type', 'Id',\n",
    "       'Vroom Audit Rating']]\n",
    "y=df[['Price']]"
   ]
  },
  {
   "cell_type": "code",
   "execution_count": 80,
   "id": "4ac62504-a305-40bd-8642-1701b11637fc",
   "metadata": {},
   "outputs": [
    {
     "data": {
      "text/html": [
       "<style>#sk-container-id-2 {\n",
       "  /* Definition of color scheme common for light and dark mode */\n",
       "  --sklearn-color-text: black;\n",
       "  --sklearn-color-line: gray;\n",
       "  /* Definition of color scheme for unfitted estimators */\n",
       "  --sklearn-color-unfitted-level-0: #fff5e6;\n",
       "  --sklearn-color-unfitted-level-1: #f6e4d2;\n",
       "  --sklearn-color-unfitted-level-2: #ffe0b3;\n",
       "  --sklearn-color-unfitted-level-3: chocolate;\n",
       "  /* Definition of color scheme for fitted estimators */\n",
       "  --sklearn-color-fitted-level-0: #f0f8ff;\n",
       "  --sklearn-color-fitted-level-1: #d4ebff;\n",
       "  --sklearn-color-fitted-level-2: #b3dbfd;\n",
       "  --sklearn-color-fitted-level-3: cornflowerblue;\n",
       "\n",
       "  /* Specific color for light theme */\n",
       "  --sklearn-color-text-on-default-background: var(--sg-text-color, var(--theme-code-foreground, var(--jp-content-font-color1, black)));\n",
       "  --sklearn-color-background: var(--sg-background-color, var(--theme-background, var(--jp-layout-color0, white)));\n",
       "  --sklearn-color-border-box: var(--sg-text-color, var(--theme-code-foreground, var(--jp-content-font-color1, black)));\n",
       "  --sklearn-color-icon: #696969;\n",
       "\n",
       "  @media (prefers-color-scheme: dark) {\n",
       "    /* Redefinition of color scheme for dark theme */\n",
       "    --sklearn-color-text-on-default-background: var(--sg-text-color, var(--theme-code-foreground, var(--jp-content-font-color1, white)));\n",
       "    --sklearn-color-background: var(--sg-background-color, var(--theme-background, var(--jp-layout-color0, #111)));\n",
       "    --sklearn-color-border-box: var(--sg-text-color, var(--theme-code-foreground, var(--jp-content-font-color1, white)));\n",
       "    --sklearn-color-icon: #878787;\n",
       "  }\n",
       "}\n",
       "\n",
       "#sk-container-id-2 {\n",
       "  color: var(--sklearn-color-text);\n",
       "}\n",
       "\n",
       "#sk-container-id-2 pre {\n",
       "  padding: 0;\n",
       "}\n",
       "\n",
       "#sk-container-id-2 input.sk-hidden--visually {\n",
       "  border: 0;\n",
       "  clip: rect(1px 1px 1px 1px);\n",
       "  clip: rect(1px, 1px, 1px, 1px);\n",
       "  height: 1px;\n",
       "  margin: -1px;\n",
       "  overflow: hidden;\n",
       "  padding: 0;\n",
       "  position: absolute;\n",
       "  width: 1px;\n",
       "}\n",
       "\n",
       "#sk-container-id-2 div.sk-dashed-wrapped {\n",
       "  border: 1px dashed var(--sklearn-color-line);\n",
       "  margin: 0 0.4em 0.5em 0.4em;\n",
       "  box-sizing: border-box;\n",
       "  padding-bottom: 0.4em;\n",
       "  background-color: var(--sklearn-color-background);\n",
       "}\n",
       "\n",
       "#sk-container-id-2 div.sk-container {\n",
       "  /* jupyter's `normalize.less` sets `[hidden] { display: none; }`\n",
       "     but bootstrap.min.css set `[hidden] { display: none !important; }`\n",
       "     so we also need the `!important` here to be able to override the\n",
       "     default hidden behavior on the sphinx rendered scikit-learn.org.\n",
       "     See: https://github.com/scikit-learn/scikit-learn/issues/21755 */\n",
       "  display: inline-block !important;\n",
       "  position: relative;\n",
       "}\n",
       "\n",
       "#sk-container-id-2 div.sk-text-repr-fallback {\n",
       "  display: none;\n",
       "}\n",
       "\n",
       "div.sk-parallel-item,\n",
       "div.sk-serial,\n",
       "div.sk-item {\n",
       "  /* draw centered vertical line to link estimators */\n",
       "  background-image: linear-gradient(var(--sklearn-color-text-on-default-background), var(--sklearn-color-text-on-default-background));\n",
       "  background-size: 2px 100%;\n",
       "  background-repeat: no-repeat;\n",
       "  background-position: center center;\n",
       "}\n",
       "\n",
       "/* Parallel-specific style estimator block */\n",
       "\n",
       "#sk-container-id-2 div.sk-parallel-item::after {\n",
       "  content: \"\";\n",
       "  width: 100%;\n",
       "  border-bottom: 2px solid var(--sklearn-color-text-on-default-background);\n",
       "  flex-grow: 1;\n",
       "}\n",
       "\n",
       "#sk-container-id-2 div.sk-parallel {\n",
       "  display: flex;\n",
       "  align-items: stretch;\n",
       "  justify-content: center;\n",
       "  background-color: var(--sklearn-color-background);\n",
       "  position: relative;\n",
       "}\n",
       "\n",
       "#sk-container-id-2 div.sk-parallel-item {\n",
       "  display: flex;\n",
       "  flex-direction: column;\n",
       "}\n",
       "\n",
       "#sk-container-id-2 div.sk-parallel-item:first-child::after {\n",
       "  align-self: flex-end;\n",
       "  width: 50%;\n",
       "}\n",
       "\n",
       "#sk-container-id-2 div.sk-parallel-item:last-child::after {\n",
       "  align-self: flex-start;\n",
       "  width: 50%;\n",
       "}\n",
       "\n",
       "#sk-container-id-2 div.sk-parallel-item:only-child::after {\n",
       "  width: 0;\n",
       "}\n",
       "\n",
       "/* Serial-specific style estimator block */\n",
       "\n",
       "#sk-container-id-2 div.sk-serial {\n",
       "  display: flex;\n",
       "  flex-direction: column;\n",
       "  align-items: center;\n",
       "  background-color: var(--sklearn-color-background);\n",
       "  padding-right: 1em;\n",
       "  padding-left: 1em;\n",
       "}\n",
       "\n",
       "\n",
       "/* Toggleable style: style used for estimator/Pipeline/ColumnTransformer box that is\n",
       "clickable and can be expanded/collapsed.\n",
       "- Pipeline and ColumnTransformer use this feature and define the default style\n",
       "- Estimators will overwrite some part of the style using the `sk-estimator` class\n",
       "*/\n",
       "\n",
       "/* Pipeline and ColumnTransformer style (default) */\n",
       "\n",
       "#sk-container-id-2 div.sk-toggleable {\n",
       "  /* Default theme specific background. It is overwritten whether we have a\n",
       "  specific estimator or a Pipeline/ColumnTransformer */\n",
       "  background-color: var(--sklearn-color-background);\n",
       "}\n",
       "\n",
       "/* Toggleable label */\n",
       "#sk-container-id-2 label.sk-toggleable__label {\n",
       "  cursor: pointer;\n",
       "  display: block;\n",
       "  width: 100%;\n",
       "  margin-bottom: 0;\n",
       "  padding: 0.5em;\n",
       "  box-sizing: border-box;\n",
       "  text-align: center;\n",
       "}\n",
       "\n",
       "#sk-container-id-2 label.sk-toggleable__label-arrow:before {\n",
       "  /* Arrow on the left of the label */\n",
       "  content: \"▸\";\n",
       "  float: left;\n",
       "  margin-right: 0.25em;\n",
       "  color: var(--sklearn-color-icon);\n",
       "}\n",
       "\n",
       "#sk-container-id-2 label.sk-toggleable__label-arrow:hover:before {\n",
       "  color: var(--sklearn-color-text);\n",
       "}\n",
       "\n",
       "/* Toggleable content - dropdown */\n",
       "\n",
       "#sk-container-id-2 div.sk-toggleable__content {\n",
       "  max-height: 0;\n",
       "  max-width: 0;\n",
       "  overflow: hidden;\n",
       "  text-align: left;\n",
       "  /* unfitted */\n",
       "  background-color: var(--sklearn-color-unfitted-level-0);\n",
       "}\n",
       "\n",
       "#sk-container-id-2 div.sk-toggleable__content.fitted {\n",
       "  /* fitted */\n",
       "  background-color: var(--sklearn-color-fitted-level-0);\n",
       "}\n",
       "\n",
       "#sk-container-id-2 div.sk-toggleable__content pre {\n",
       "  margin: 0.2em;\n",
       "  border-radius: 0.25em;\n",
       "  color: var(--sklearn-color-text);\n",
       "  /* unfitted */\n",
       "  background-color: var(--sklearn-color-unfitted-level-0);\n",
       "}\n",
       "\n",
       "#sk-container-id-2 div.sk-toggleable__content.fitted pre {\n",
       "  /* unfitted */\n",
       "  background-color: var(--sklearn-color-fitted-level-0);\n",
       "}\n",
       "\n",
       "#sk-container-id-2 input.sk-toggleable__control:checked~div.sk-toggleable__content {\n",
       "  /* Expand drop-down */\n",
       "  max-height: 200px;\n",
       "  max-width: 100%;\n",
       "  overflow: auto;\n",
       "}\n",
       "\n",
       "#sk-container-id-2 input.sk-toggleable__control:checked~label.sk-toggleable__label-arrow:before {\n",
       "  content: \"▾\";\n",
       "}\n",
       "\n",
       "/* Pipeline/ColumnTransformer-specific style */\n",
       "\n",
       "#sk-container-id-2 div.sk-label input.sk-toggleable__control:checked~label.sk-toggleable__label {\n",
       "  color: var(--sklearn-color-text);\n",
       "  background-color: var(--sklearn-color-unfitted-level-2);\n",
       "}\n",
       "\n",
       "#sk-container-id-2 div.sk-label.fitted input.sk-toggleable__control:checked~label.sk-toggleable__label {\n",
       "  background-color: var(--sklearn-color-fitted-level-2);\n",
       "}\n",
       "\n",
       "/* Estimator-specific style */\n",
       "\n",
       "/* Colorize estimator box */\n",
       "#sk-container-id-2 div.sk-estimator input.sk-toggleable__control:checked~label.sk-toggleable__label {\n",
       "  /* unfitted */\n",
       "  background-color: var(--sklearn-color-unfitted-level-2);\n",
       "}\n",
       "\n",
       "#sk-container-id-2 div.sk-estimator.fitted input.sk-toggleable__control:checked~label.sk-toggleable__label {\n",
       "  /* fitted */\n",
       "  background-color: var(--sklearn-color-fitted-level-2);\n",
       "}\n",
       "\n",
       "#sk-container-id-2 div.sk-label label.sk-toggleable__label,\n",
       "#sk-container-id-2 div.sk-label label {\n",
       "  /* The background is the default theme color */\n",
       "  color: var(--sklearn-color-text-on-default-background);\n",
       "}\n",
       "\n",
       "/* On hover, darken the color of the background */\n",
       "#sk-container-id-2 div.sk-label:hover label.sk-toggleable__label {\n",
       "  color: var(--sklearn-color-text);\n",
       "  background-color: var(--sklearn-color-unfitted-level-2);\n",
       "}\n",
       "\n",
       "/* Label box, darken color on hover, fitted */\n",
       "#sk-container-id-2 div.sk-label.fitted:hover label.sk-toggleable__label.fitted {\n",
       "  color: var(--sklearn-color-text);\n",
       "  background-color: var(--sklearn-color-fitted-level-2);\n",
       "}\n",
       "\n",
       "/* Estimator label */\n",
       "\n",
       "#sk-container-id-2 div.sk-label label {\n",
       "  font-family: monospace;\n",
       "  font-weight: bold;\n",
       "  display: inline-block;\n",
       "  line-height: 1.2em;\n",
       "}\n",
       "\n",
       "#sk-container-id-2 div.sk-label-container {\n",
       "  text-align: center;\n",
       "}\n",
       "\n",
       "/* Estimator-specific */\n",
       "#sk-container-id-2 div.sk-estimator {\n",
       "  font-family: monospace;\n",
       "  border: 1px dotted var(--sklearn-color-border-box);\n",
       "  border-radius: 0.25em;\n",
       "  box-sizing: border-box;\n",
       "  margin-bottom: 0.5em;\n",
       "  /* unfitted */\n",
       "  background-color: var(--sklearn-color-unfitted-level-0);\n",
       "}\n",
       "\n",
       "#sk-container-id-2 div.sk-estimator.fitted {\n",
       "  /* fitted */\n",
       "  background-color: var(--sklearn-color-fitted-level-0);\n",
       "}\n",
       "\n",
       "/* on hover */\n",
       "#sk-container-id-2 div.sk-estimator:hover {\n",
       "  /* unfitted */\n",
       "  background-color: var(--sklearn-color-unfitted-level-2);\n",
       "}\n",
       "\n",
       "#sk-container-id-2 div.sk-estimator.fitted:hover {\n",
       "  /* fitted */\n",
       "  background-color: var(--sklearn-color-fitted-level-2);\n",
       "}\n",
       "\n",
       "/* Specification for estimator info (e.g. \"i\" and \"?\") */\n",
       "\n",
       "/* Common style for \"i\" and \"?\" */\n",
       "\n",
       ".sk-estimator-doc-link,\n",
       "a:link.sk-estimator-doc-link,\n",
       "a:visited.sk-estimator-doc-link {\n",
       "  float: right;\n",
       "  font-size: smaller;\n",
       "  line-height: 1em;\n",
       "  font-family: monospace;\n",
       "  background-color: var(--sklearn-color-background);\n",
       "  border-radius: 1em;\n",
       "  height: 1em;\n",
       "  width: 1em;\n",
       "  text-decoration: none !important;\n",
       "  margin-left: 1ex;\n",
       "  /* unfitted */\n",
       "  border: var(--sklearn-color-unfitted-level-1) 1pt solid;\n",
       "  color: var(--sklearn-color-unfitted-level-1);\n",
       "}\n",
       "\n",
       ".sk-estimator-doc-link.fitted,\n",
       "a:link.sk-estimator-doc-link.fitted,\n",
       "a:visited.sk-estimator-doc-link.fitted {\n",
       "  /* fitted */\n",
       "  border: var(--sklearn-color-fitted-level-1) 1pt solid;\n",
       "  color: var(--sklearn-color-fitted-level-1);\n",
       "}\n",
       "\n",
       "/* On hover */\n",
       "div.sk-estimator:hover .sk-estimator-doc-link:hover,\n",
       ".sk-estimator-doc-link:hover,\n",
       "div.sk-label-container:hover .sk-estimator-doc-link:hover,\n",
       ".sk-estimator-doc-link:hover {\n",
       "  /* unfitted */\n",
       "  background-color: var(--sklearn-color-unfitted-level-3);\n",
       "  color: var(--sklearn-color-background);\n",
       "  text-decoration: none;\n",
       "}\n",
       "\n",
       "div.sk-estimator.fitted:hover .sk-estimator-doc-link.fitted:hover,\n",
       ".sk-estimator-doc-link.fitted:hover,\n",
       "div.sk-label-container:hover .sk-estimator-doc-link.fitted:hover,\n",
       ".sk-estimator-doc-link.fitted:hover {\n",
       "  /* fitted */\n",
       "  background-color: var(--sklearn-color-fitted-level-3);\n",
       "  color: var(--sklearn-color-background);\n",
       "  text-decoration: none;\n",
       "}\n",
       "\n",
       "/* Span, style for the box shown on hovering the info icon */\n",
       ".sk-estimator-doc-link span {\n",
       "  display: none;\n",
       "  z-index: 9999;\n",
       "  position: relative;\n",
       "  font-weight: normal;\n",
       "  right: .2ex;\n",
       "  padding: .5ex;\n",
       "  margin: .5ex;\n",
       "  width: min-content;\n",
       "  min-width: 20ex;\n",
       "  max-width: 50ex;\n",
       "  color: var(--sklearn-color-text);\n",
       "  box-shadow: 2pt 2pt 4pt #999;\n",
       "  /* unfitted */\n",
       "  background: var(--sklearn-color-unfitted-level-0);\n",
       "  border: .5pt solid var(--sklearn-color-unfitted-level-3);\n",
       "}\n",
       "\n",
       ".sk-estimator-doc-link.fitted span {\n",
       "  /* fitted */\n",
       "  background: var(--sklearn-color-fitted-level-0);\n",
       "  border: var(--sklearn-color-fitted-level-3);\n",
       "}\n",
       "\n",
       ".sk-estimator-doc-link:hover span {\n",
       "  display: block;\n",
       "}\n",
       "\n",
       "/* \"?\"-specific style due to the `<a>` HTML tag */\n",
       "\n",
       "#sk-container-id-2 a.estimator_doc_link {\n",
       "  float: right;\n",
       "  font-size: 1rem;\n",
       "  line-height: 1em;\n",
       "  font-family: monospace;\n",
       "  background-color: var(--sklearn-color-background);\n",
       "  border-radius: 1rem;\n",
       "  height: 1rem;\n",
       "  width: 1rem;\n",
       "  text-decoration: none;\n",
       "  /* unfitted */\n",
       "  color: var(--sklearn-color-unfitted-level-1);\n",
       "  border: var(--sklearn-color-unfitted-level-1) 1pt solid;\n",
       "}\n",
       "\n",
       "#sk-container-id-2 a.estimator_doc_link.fitted {\n",
       "  /* fitted */\n",
       "  border: var(--sklearn-color-fitted-level-1) 1pt solid;\n",
       "  color: var(--sklearn-color-fitted-level-1);\n",
       "}\n",
       "\n",
       "/* On hover */\n",
       "#sk-container-id-2 a.estimator_doc_link:hover {\n",
       "  /* unfitted */\n",
       "  background-color: var(--sklearn-color-unfitted-level-3);\n",
       "  color: var(--sklearn-color-background);\n",
       "  text-decoration: none;\n",
       "}\n",
       "\n",
       "#sk-container-id-2 a.estimator_doc_link.fitted:hover {\n",
       "  /* fitted */\n",
       "  background-color: var(--sklearn-color-fitted-level-3);\n",
       "}\n",
       "</style><div id=\"sk-container-id-2\" class=\"sk-top-container\"><div class=\"sk-text-repr-fallback\"><pre>LinearRegression()</pre><b>In a Jupyter environment, please rerun this cell to show the HTML representation or trust the notebook. <br />On GitHub, the HTML representation is unable to render, please try loading this page with nbviewer.org.</b></div><div class=\"sk-container\" hidden><div class=\"sk-item\"><div class=\"sk-estimator fitted sk-toggleable\"><input class=\"sk-toggleable__control sk-hidden--visually\" id=\"sk-estimator-id-2\" type=\"checkbox\" checked><label for=\"sk-estimator-id-2\" class=\"sk-toggleable__label fitted sk-toggleable__label-arrow fitted\">&nbsp;&nbsp;LinearRegression<a class=\"sk-estimator-doc-link fitted\" rel=\"noreferrer\" target=\"_blank\" href=\"https://scikit-learn.org/1.5/modules/generated/sklearn.linear_model.LinearRegression.html\">?<span>Documentation for LinearRegression</span></a><span class=\"sk-estimator-doc-link fitted\">i<span>Fitted</span></span></label><div class=\"sk-toggleable__content fitted\"><pre>LinearRegression()</pre></div> </div></div></div></div>"
      ],
      "text/plain": [
       "LinearRegression()"
      ]
     },
     "execution_count": 80,
     "metadata": {},
     "output_type": "execute_result"
    }
   ],
   "source": [
    "model.fit(X,y)"
   ]
  },
  {
   "cell_type": "code",
   "execution_count": 81,
   "id": "2589e70d-bf3d-4d12-8ec9-9e370f7a33bb",
   "metadata": {},
   "outputs": [
    {
     "data": {
      "text/plain": [
       "array([[-2.82674696e+05,  3.53593074e+18,  3.53593074e+18,\n",
       "         2.85888000e+05,  4.03200000e+04,  2.32960000e+04,\n",
       "         2.76160000e+04, -2.13216000e+05,  3.00560000e+04,\n",
       "         1.53650000e+03, -4.26400000e+03, -1.21696000e+05,\n",
       "        -8.74240000e+04,  2.14800000e+03,  1.90800000e+03]])"
      ]
     },
     "execution_count": 81,
     "metadata": {},
     "output_type": "execute_result"
    }
   ],
   "source": [
    "model.coef_"
   ]
  },
  {
   "cell_type": "code",
   "execution_count": 82,
   "id": "aaa613ec-361c-4ef0-9ae0-45da7781bb92",
   "metadata": {},
   "outputs": [
    {
     "data": {
      "text/plain": [
       "array([1097853.4688775])"
      ]
     },
     "execution_count": 82,
     "metadata": {},
     "output_type": "execute_result"
    }
   ],
   "source": [
    "model.intercept_"
   ]
  },
  {
   "cell_type": "code",
   "execution_count": 83,
   "id": "c051e826-26cf-438d-a423-086b41431018",
   "metadata": {},
   "outputs": [
    {
     "data": {
      "text/html": [
       "<div>\n",
       "<style scoped>\n",
       "    .dataframe tbody tr th:only-of-type {\n",
       "        vertical-align: middle;\n",
       "    }\n",
       "\n",
       "    .dataframe tbody tr th {\n",
       "        vertical-align: top;\n",
       "    }\n",
       "\n",
       "    .dataframe thead th {\n",
       "        text-align: right;\n",
       "    }\n",
       "</style>\n",
       "<table border=\"1\" class=\"dataframe\">\n",
       "  <thead>\n",
       "    <tr style=\"text-align: right;\">\n",
       "      <th></th>\n",
       "      <th>y_predicted</th>\n",
       "    </tr>\n",
       "  </thead>\n",
       "  <tbody>\n",
       "    <tr>\n",
       "      <th>0</th>\n",
       "      <td>1.033166e+06</td>\n",
       "    </tr>\n",
       "    <tr>\n",
       "      <th>1</th>\n",
       "      <td>9.236297e+05</td>\n",
       "    </tr>\n",
       "    <tr>\n",
       "      <th>2</th>\n",
       "      <td>2.111372e+06</td>\n",
       "    </tr>\n",
       "    <tr>\n",
       "      <th>3</th>\n",
       "      <td>9.322393e+05</td>\n",
       "    </tr>\n",
       "    <tr>\n",
       "      <th>4</th>\n",
       "      <td>2.534290e+06</td>\n",
       "    </tr>\n",
       "    <tr>\n",
       "      <th>...</th>\n",
       "      <td>...</td>\n",
       "    </tr>\n",
       "    <tr>\n",
       "      <th>53510</th>\n",
       "      <td>1.219968e+06</td>\n",
       "    </tr>\n",
       "    <tr>\n",
       "      <th>53511</th>\n",
       "      <td>3.749096e+05</td>\n",
       "    </tr>\n",
       "    <tr>\n",
       "      <th>53512</th>\n",
       "      <td>2.262106e+06</td>\n",
       "    </tr>\n",
       "    <tr>\n",
       "      <th>53513</th>\n",
       "      <td>9.233540e+05</td>\n",
       "    </tr>\n",
       "    <tr>\n",
       "      <th>53514</th>\n",
       "      <td>2.014764e+06</td>\n",
       "    </tr>\n",
       "  </tbody>\n",
       "</table>\n",
       "<p>53515 rows × 1 columns</p>\n",
       "</div>"
      ],
      "text/plain": [
       "        y_predicted\n",
       "0      1.033166e+06\n",
       "1      9.236297e+05\n",
       "2      2.111372e+06\n",
       "3      9.322393e+05\n",
       "4      2.534290e+06\n",
       "...             ...\n",
       "53510  1.219968e+06\n",
       "53511  3.749096e+05\n",
       "53512  2.262106e+06\n",
       "53513  9.233540e+05\n",
       "53514  2.014764e+06\n",
       "\n",
       "[53515 rows x 1 columns]"
      ]
     },
     "execution_count": 83,
     "metadata": {},
     "output_type": "execute_result"
    }
   ],
   "source": [
    "y_pridicted=pd.DataFrame(model.predict(X),columns=['y_predicted'])\n",
    "y_pridicted"
   ]
  },
  {
   "cell_type": "code",
   "execution_count": 75,
   "id": "1bb0de07-28bd-4666-a996-c71ccfd61df0",
   "metadata": {},
   "outputs": [
    {
     "data": {
      "text/plain": [
       "0.723522569258759"
      ]
     },
     "execution_count": 75,
     "metadata": {},
     "output_type": "execute_result"
    }
   ],
   "source": [
    "model.score(X,y)"
   ]
  },
  {
   "cell_type": "code",
   "execution_count": 71,
   "id": "01bea2f1-da33-4e67-8170-fe63cf345950",
   "metadata": {},
   "outputs": [
    {
     "data": {
      "text/html": [
       "<div>\n",
       "<style scoped>\n",
       "    .dataframe tbody tr th:only-of-type {\n",
       "        vertical-align: middle;\n",
       "    }\n",
       "\n",
       "    .dataframe tbody tr th {\n",
       "        vertical-align: top;\n",
       "    }\n",
       "\n",
       "    .dataframe thead th {\n",
       "        text-align: right;\n",
       "    }\n",
       "</style>\n",
       "<table border=\"1\" class=\"dataframe\">\n",
       "  <thead>\n",
       "    <tr style=\"text-align: right;\">\n",
       "      <th></th>\n",
       "      <th>Price</th>\n",
       "      <th>y_predicted</th>\n",
       "    </tr>\n",
       "  </thead>\n",
       "  <tbody>\n",
       "    <tr>\n",
       "      <th>0</th>\n",
       "      <td>543764.25</td>\n",
       "      <td>1.033166e+06</td>\n",
       "    </tr>\n",
       "    <tr>\n",
       "      <th>1</th>\n",
       "      <td>401819.25</td>\n",
       "      <td>9.236297e+05</td>\n",
       "    </tr>\n",
       "    <tr>\n",
       "      <th>2</th>\n",
       "      <td>2392855.50</td>\n",
       "      <td>2.111372e+06</td>\n",
       "    </tr>\n",
       "    <tr>\n",
       "      <th>3</th>\n",
       "      <td>958606.50</td>\n",
       "      <td>9.322393e+05</td>\n",
       "    </tr>\n",
       "    <tr>\n",
       "      <th>4</th>\n",
       "      <td>3085561.50</td>\n",
       "      <td>2.534290e+06</td>\n",
       "    </tr>\n",
       "    <tr>\n",
       "      <th>...</th>\n",
       "      <td>...</td>\n",
       "      <td>...</td>\n",
       "    </tr>\n",
       "    <tr>\n",
       "      <th>53510</th>\n",
       "      <td>1342996.50</td>\n",
       "      <td>1.219968e+06</td>\n",
       "    </tr>\n",
       "    <tr>\n",
       "      <th>53511</th>\n",
       "      <td>510732.75</td>\n",
       "      <td>3.749096e+05</td>\n",
       "    </tr>\n",
       "    <tr>\n",
       "      <th>53512</th>\n",
       "      <td>2008123.50</td>\n",
       "      <td>2.262106e+06</td>\n",
       "    </tr>\n",
       "    <tr>\n",
       "      <th>53513</th>\n",
       "      <td>874352.25</td>\n",
       "      <td>9.233540e+05</td>\n",
       "    </tr>\n",
       "    <tr>\n",
       "      <th>53514</th>\n",
       "      <td>1576610.25</td>\n",
       "      <td>2.014764e+06</td>\n",
       "    </tr>\n",
       "  </tbody>\n",
       "</table>\n",
       "<p>53515 rows × 2 columns</p>\n",
       "</div>"
      ],
      "text/plain": [
       "            Price   y_predicted\n",
       "0       543764.25  1.033166e+06\n",
       "1       401819.25  9.236297e+05\n",
       "2      2392855.50  2.111372e+06\n",
       "3       958606.50  9.322393e+05\n",
       "4      3085561.50  2.534290e+06\n",
       "...           ...           ...\n",
       "53510  1342996.50  1.219968e+06\n",
       "53511   510732.75  3.749096e+05\n",
       "53512  2008123.50  2.262106e+06\n",
       "53513   874352.25  9.233540e+05\n",
       "53514  1576610.25  2.014764e+06\n",
       "\n",
       "[53515 rows x 2 columns]"
      ]
     },
     "execution_count": 71,
     "metadata": {},
     "output_type": "execute_result"
    }
   ],
   "source": [
    "df1=pd.concat([y,y_pridicted],axis=1)\n",
    "df1"
   ]
  },
  {
   "cell_type": "code",
   "execution_count": 72,
   "id": "2e2c3a39-9022-44ed-aab6-8cd0a2aca2b8",
   "metadata": {},
   "outputs": [
    {
     "data": {
      "text/plain": [
       "np.float64(197014204270.561)"
      ]
     },
     "execution_count": 72,
     "metadata": {},
     "output_type": "execute_result"
    }
   ],
   "source": [
    "from sklearn.metrics import mean_squared_error\n",
    "mean_squared_error(df1['Price'],df1['y_predicted'])"
   ]
  },
  {
   "cell_type": "code",
   "execution_count": 73,
   "id": "f6d73b28-c9e6-4500-bd9b-6203215455d9",
   "metadata": {},
   "outputs": [
    {
     "data": {
      "text/plain": [
       "np.float64(290171.0521987447)"
      ]
     },
     "execution_count": 73,
     "metadata": {},
     "output_type": "execute_result"
    }
   ],
   "source": [
    "from sklearn.metrics import mean_absolute_error\n",
    "mean_absolute_error(df1['Price'],df1['y_predicted'])"
   ]
  },
  {
   "cell_type": "code",
   "execution_count": null,
   "id": "76a0264a-2af9-4368-a5b0-c5c4b041bae6",
   "metadata": {},
   "outputs": [],
   "source": []
  },
  {
   "cell_type": "code",
   "execution_count": null,
   "id": "fa53848b-d44d-4179-8916-a25c672f9bcd",
   "metadata": {},
   "outputs": [],
   "source": []
  },
  {
   "cell_type": "code",
   "execution_count": 74,
   "id": "acde61fb-cfc2-4e71-b7a6-c558e929ef43",
   "metadata": {},
   "outputs": [],
   "source": [
    "df=pd.read_csv('Test_Data_Set (5).csv')"
   ]
  },
  {
   "cell_type": "code",
   "execution_count": 75,
   "id": "4a995670-187d-404d-9db3-d63eeb7888ba",
   "metadata": {},
   "outputs": [
    {
     "data": {
      "text/html": [
       "<div>\n",
       "<style scoped>\n",
       "    .dataframe tbody tr th:only-of-type {\n",
       "        vertical-align: middle;\n",
       "    }\n",
       "\n",
       "    .dataframe tbody tr th {\n",
       "        vertical-align: top;\n",
       "    }\n",
       "\n",
       "    .dataframe thead th {\n",
       "        text-align: right;\n",
       "    }\n",
       "</style>\n",
       "<table border=\"1\" class=\"dataframe\">\n",
       "  <thead>\n",
       "    <tr style=\"text-align: right;\">\n",
       "      <th></th>\n",
       "      <th>Id</th>\n",
       "      <th>Maker</th>\n",
       "      <th>model</th>\n",
       "      <th>Location</th>\n",
       "      <th>Distance</th>\n",
       "      <th>Owner Type</th>\n",
       "      <th>manufacture_year</th>\n",
       "      <th>Age of car</th>\n",
       "      <th>engine_displacement</th>\n",
       "      <th>engine_power</th>\n",
       "      <th>body_type</th>\n",
       "      <th>Vroom Audit Rating</th>\n",
       "      <th>transmission</th>\n",
       "      <th>door_count</th>\n",
       "      <th>seat_count</th>\n",
       "      <th>fuel_type</th>\n",
       "    </tr>\n",
       "  </thead>\n",
       "  <tbody>\n",
       "    <tr>\n",
       "      <th>0</th>\n",
       "      <td>11001</td>\n",
       "      <td>skoda</td>\n",
       "      <td>octavia</td>\n",
       "      <td>Mumbai</td>\n",
       "      <td>150000.0</td>\n",
       "      <td>First</td>\n",
       "      <td>2007</td>\n",
       "      <td>12</td>\n",
       "      <td>1595</td>\n",
       "      <td>75.0</td>\n",
       "      <td>NaN</td>\n",
       "      <td>5</td>\n",
       "      <td>man</td>\n",
       "      <td>4.0</td>\n",
       "      <td>5.0</td>\n",
       "      <td>petrol</td>\n",
       "    </tr>\n",
       "    <tr>\n",
       "      <th>1</th>\n",
       "      <td>11002</td>\n",
       "      <td>skoda</td>\n",
       "      <td>rapid</td>\n",
       "      <td>Coimbatore</td>\n",
       "      <td>29376.0</td>\n",
       "      <td>Third</td>\n",
       "      <td>2014</td>\n",
       "      <td>5</td>\n",
       "      <td>1598</td>\n",
       "      <td>77.0</td>\n",
       "      <td>NaN</td>\n",
       "      <td>4</td>\n",
       "      <td>man</td>\n",
       "      <td>4.0</td>\n",
       "      <td>5.0</td>\n",
       "      <td>diesel</td>\n",
       "    </tr>\n",
       "    <tr>\n",
       "      <th>2</th>\n",
       "      <td>11003</td>\n",
       "      <td>skoda</td>\n",
       "      <td>octavia</td>\n",
       "      <td>Coimbatore</td>\n",
       "      <td>30563.0</td>\n",
       "      <td>Second</td>\n",
       "      <td>2014</td>\n",
       "      <td>5</td>\n",
       "      <td>1968</td>\n",
       "      <td>110.0</td>\n",
       "      <td>NaN</td>\n",
       "      <td>5</td>\n",
       "      <td>man</td>\n",
       "      <td>5.0</td>\n",
       "      <td>5.0</td>\n",
       "      <td>diesel</td>\n",
       "    </tr>\n",
       "    <tr>\n",
       "      <th>3</th>\n",
       "      <td>11004</td>\n",
       "      <td>audi</td>\n",
       "      <td>q3</td>\n",
       "      <td>Delhi</td>\n",
       "      <td>8650.0</td>\n",
       "      <td>Fourth &amp; Above</td>\n",
       "      <td>2015</td>\n",
       "      <td>4</td>\n",
       "      <td>1968</td>\n",
       "      <td>110.0</td>\n",
       "      <td>NaN</td>\n",
       "      <td>8</td>\n",
       "      <td>auto</td>\n",
       "      <td>4.0</td>\n",
       "      <td>5.0</td>\n",
       "      <td>diesel</td>\n",
       "    </tr>\n",
       "    <tr>\n",
       "      <th>4</th>\n",
       "      <td>11005</td>\n",
       "      <td>audi</td>\n",
       "      <td>tt</td>\n",
       "      <td>Chennai</td>\n",
       "      <td>6400.0</td>\n",
       "      <td>Third</td>\n",
       "      <td>2015</td>\n",
       "      <td>4</td>\n",
       "      <td>1984</td>\n",
       "      <td>169.0</td>\n",
       "      <td>NaN</td>\n",
       "      <td>4</td>\n",
       "      <td>auto</td>\n",
       "      <td>2.0</td>\n",
       "      <td>NaN</td>\n",
       "      <td>petrol</td>\n",
       "    </tr>\n",
       "    <tr>\n",
       "      <th>...</th>\n",
       "      <td>...</td>\n",
       "      <td>...</td>\n",
       "      <td>...</td>\n",
       "      <td>...</td>\n",
       "      <td>...</td>\n",
       "      <td>...</td>\n",
       "      <td>...</td>\n",
       "      <td>...</td>\n",
       "      <td>...</td>\n",
       "      <td>...</td>\n",
       "      <td>...</td>\n",
       "      <td>...</td>\n",
       "      <td>...</td>\n",
       "      <td>...</td>\n",
       "      <td>...</td>\n",
       "      <td>...</td>\n",
       "    </tr>\n",
       "    <tr>\n",
       "      <th>5610</th>\n",
       "      <td>16611</td>\n",
       "      <td>skoda</td>\n",
       "      <td>octavia</td>\n",
       "      <td>Mumbai</td>\n",
       "      <td>149976.0</td>\n",
       "      <td>First</td>\n",
       "      <td>2011</td>\n",
       "      <td>8</td>\n",
       "      <td>1968</td>\n",
       "      <td>103.0</td>\n",
       "      <td>NaN</td>\n",
       "      <td>8</td>\n",
       "      <td>man</td>\n",
       "      <td>4.0</td>\n",
       "      <td>5.0</td>\n",
       "      <td>diesel</td>\n",
       "    </tr>\n",
       "    <tr>\n",
       "      <th>5611</th>\n",
       "      <td>16612</td>\n",
       "      <td>skoda</td>\n",
       "      <td>superb</td>\n",
       "      <td>Ahmedabad</td>\n",
       "      <td>332000.0</td>\n",
       "      <td>First</td>\n",
       "      <td>2005</td>\n",
       "      <td>14</td>\n",
       "      <td>1896</td>\n",
       "      <td>96.0</td>\n",
       "      <td>NaN</td>\n",
       "      <td>6</td>\n",
       "      <td>man</td>\n",
       "      <td>4.0</td>\n",
       "      <td>5.0</td>\n",
       "      <td>diesel</td>\n",
       "    </tr>\n",
       "    <tr>\n",
       "      <th>5612</th>\n",
       "      <td>16613</td>\n",
       "      <td>skoda</td>\n",
       "      <td>octavia</td>\n",
       "      <td>Bangalore</td>\n",
       "      <td>230800.0</td>\n",
       "      <td>Second</td>\n",
       "      <td>2005</td>\n",
       "      <td>14</td>\n",
       "      <td>1896</td>\n",
       "      <td>77.0</td>\n",
       "      <td>NaN</td>\n",
       "      <td>7</td>\n",
       "      <td>man</td>\n",
       "      <td>5.0</td>\n",
       "      <td>5.0</td>\n",
       "      <td>diesel</td>\n",
       "    </tr>\n",
       "    <tr>\n",
       "      <th>5613</th>\n",
       "      <td>16614</td>\n",
       "      <td>nissan</td>\n",
       "      <td>qashqai</td>\n",
       "      <td>Jaipur</td>\n",
       "      <td>63480.0</td>\n",
       "      <td>Third</td>\n",
       "      <td>2011</td>\n",
       "      <td>8</td>\n",
       "      <td>1997</td>\n",
       "      <td>104.0</td>\n",
       "      <td>NaN</td>\n",
       "      <td>5</td>\n",
       "      <td>man</td>\n",
       "      <td>4.0</td>\n",
       "      <td>7.0</td>\n",
       "      <td>petrol</td>\n",
       "    </tr>\n",
       "    <tr>\n",
       "      <th>5614</th>\n",
       "      <td>16615</td>\n",
       "      <td>hyundai</td>\n",
       "      <td>i30</td>\n",
       "      <td>Jaipur</td>\n",
       "      <td>75000.0</td>\n",
       "      <td>Second</td>\n",
       "      <td>2011</td>\n",
       "      <td>8</td>\n",
       "      <td>1396</td>\n",
       "      <td>80.0</td>\n",
       "      <td>NaN</td>\n",
       "      <td>4</td>\n",
       "      <td>man</td>\n",
       "      <td>NaN</td>\n",
       "      <td>NaN</td>\n",
       "      <td>petrol</td>\n",
       "    </tr>\n",
       "  </tbody>\n",
       "</table>\n",
       "<p>5615 rows × 16 columns</p>\n",
       "</div>"
      ],
      "text/plain": [
       "         Id    Maker    model    Location  Distance       Owner Type  \\\n",
       "0     11001    skoda  octavia      Mumbai   150000.0           First   \n",
       "1     11002    skoda    rapid  Coimbatore    29376.0           Third   \n",
       "2     11003    skoda  octavia  Coimbatore    30563.0          Second   \n",
       "3     11004     audi       q3       Delhi     8650.0  Fourth & Above   \n",
       "4     11005     audi       tt     Chennai     6400.0           Third   \n",
       "...     ...      ...      ...         ...        ...             ...   \n",
       "5610  16611    skoda  octavia      Mumbai   149976.0           First   \n",
       "5611  16612    skoda   superb   Ahmedabad   332000.0           First   \n",
       "5612  16613    skoda  octavia   Bangalore   230800.0          Second   \n",
       "5613  16614   nissan  qashqai      Jaipur    63480.0           Third   \n",
       "5614  16615  hyundai      i30      Jaipur    75000.0          Second   \n",
       "\n",
       "      manufacture_year  Age of car  engine_displacement  engine_power  \\\n",
       "0                 2007          12                 1595          75.0   \n",
       "1                 2014           5                 1598          77.0   \n",
       "2                 2014           5                 1968         110.0   \n",
       "3                 2015           4                 1968         110.0   \n",
       "4                 2015           4                 1984         169.0   \n",
       "...                ...         ...                  ...           ...   \n",
       "5610              2011           8                 1968         103.0   \n",
       "5611              2005          14                 1896          96.0   \n",
       "5612              2005          14                 1896          77.0   \n",
       "5613              2011           8                 1997         104.0   \n",
       "5614              2011           8                 1396          80.0   \n",
       "\n",
       "     body_type  Vroom Audit Rating transmission  door_count  seat_count  \\\n",
       "0          NaN                   5          man         4.0         5.0   \n",
       "1          NaN                   4          man         4.0         5.0   \n",
       "2          NaN                   5          man         5.0         5.0   \n",
       "3          NaN                   8         auto         4.0         5.0   \n",
       "4          NaN                   4         auto         2.0         NaN   \n",
       "...        ...                 ...          ...         ...         ...   \n",
       "5610       NaN                   8          man         4.0         5.0   \n",
       "5611       NaN                   6          man         4.0         5.0   \n",
       "5612       NaN                   7          man         5.0         5.0   \n",
       "5613       NaN                   5          man         4.0         7.0   \n",
       "5614       NaN                   4          man         NaN         NaN   \n",
       "\n",
       "     fuel_type  \n",
       "0       petrol  \n",
       "1       diesel  \n",
       "2       diesel  \n",
       "3       diesel  \n",
       "4       petrol  \n",
       "...        ...  \n",
       "5610    diesel  \n",
       "5611    diesel  \n",
       "5612    diesel  \n",
       "5613    petrol  \n",
       "5614    petrol  \n",
       "\n",
       "[5615 rows x 16 columns]"
      ]
     },
     "execution_count": 75,
     "metadata": {},
     "output_type": "execute_result"
    }
   ],
   "source": [
    "df"
   ]
  },
  {
   "cell_type": "code",
   "execution_count": 76,
   "id": "138911c5-af6c-4e38-949c-3a47846f1d07",
   "metadata": {},
   "outputs": [
    {
     "data": {
      "text/plain": [
       "Id                        0\n",
       "Maker                     0\n",
       "model                     0\n",
       "Location                  0\n",
       "Distance                128\n",
       "Owner Type                0\n",
       "manufacture_year          0\n",
       "Age of car                0\n",
       "engine_displacement       0\n",
       "engine_power            168\n",
       "body_type              5193\n",
       "Vroom Audit Rating        0\n",
       "transmission              0\n",
       "door_count              806\n",
       "seat_count              891\n",
       "fuel_type                 0\n",
       "dtype: int64"
      ]
     },
     "execution_count": 76,
     "metadata": {},
     "output_type": "execute_result"
    }
   ],
   "source": [
    "df.isna().sum()"
   ]
  },
  {
   "cell_type": "code",
   "execution_count": 77,
   "id": "b9da68ff-3710-435b-a1db-f1ed63416838",
   "metadata": {},
   "outputs": [],
   "source": [
    "del df['body_type']"
   ]
  },
  {
   "cell_type": "code",
   "execution_count": 78,
   "id": "e7804ae6-5f4b-4a62-8d62-4b30277ff2ec",
   "metadata": {},
   "outputs": [],
   "source": [
    "df['Distance '].fillna(df['Distance '].median(),inplace=True)"
   ]
  },
  {
   "cell_type": "code",
   "execution_count": 79,
   "id": "55d5ac2c-9087-4a81-89e1-e2c17c1baf3e",
   "metadata": {},
   "outputs": [],
   "source": [
    "import warnings\n",
    "warnings.filterwarnings('ignore')"
   ]
  },
  {
   "cell_type": "code",
   "execution_count": 80,
   "id": "083c863e-9ef9-47b6-97f0-e931915058a4",
   "metadata": {},
   "outputs": [],
   "source": [
    "df['engine_power'].fillna(df['engine_power'].median(),inplace=True)"
   ]
  },
  {
   "cell_type": "code",
   "execution_count": 81,
   "id": "eb2e1e15-1925-4068-9fa8-d16ce016c070",
   "metadata": {},
   "outputs": [],
   "source": [
    "df['seat_count'].fillna(df['seat_count'].mode()[0],inplace=True)"
   ]
  },
  {
   "cell_type": "code",
   "execution_count": 82,
   "id": "4ac20423-7a37-4745-8b89-bb52dbcc1b31",
   "metadata": {},
   "outputs": [],
   "source": [
    "df['door_count'].fillna(df['door_count'].mode()[0],inplace=True)"
   ]
  },
  {
   "cell_type": "code",
   "execution_count": 83,
   "id": "dd3dbd35-999a-4f12-84bf-ee781336b37e",
   "metadata": {},
   "outputs": [
    {
     "data": {
      "text/plain": [
       "Id                     0\n",
       "Maker                  0\n",
       "model                  0\n",
       "Location               0\n",
       "Distance               0\n",
       "Owner Type             0\n",
       "manufacture_year       0\n",
       "Age of car             0\n",
       "engine_displacement    0\n",
       "engine_power           0\n",
       "Vroom Audit Rating     0\n",
       "transmission           0\n",
       "door_count             0\n",
       "seat_count             0\n",
       "fuel_type              0\n",
       "dtype: int64"
      ]
     },
     "execution_count": 83,
     "metadata": {},
     "output_type": "execute_result"
    }
   ],
   "source": [
    "df.isna().sum()"
   ]
  },
  {
   "cell_type": "code",
   "execution_count": 84,
   "id": "297d5d25-d028-4865-9414-1ac87d3aeef7",
   "metadata": {},
   "outputs": [
    {
     "data": {
      "text/plain": [
       "np.int64(0)"
      ]
     },
     "execution_count": 84,
     "metadata": {},
     "output_type": "execute_result"
    }
   ],
   "source": [
    "df.duplicated().sum()"
   ]
  },
  {
   "cell_type": "code",
   "execution_count": 85,
   "id": "a1034eed-92f5-4bd3-959e-481986dfd5d2",
   "metadata": {},
   "outputs": [
    {
     "data": {
      "image/png": "[encoded data removed]",
      "text/plain": [
       "<Figure size 2500x1000 with 1 Axes>"
      ]
     },
     "metadata": {},
     "output_type": "display_data"
    }
   ],
   "source": [
    "df.boxplot(figsize=(25,10))\n",
    "plt.show()"
   ]
  },
  {
   "cell_type": "code",
   "execution_count": 86,
   "id": "b32d2ea9-4d36-4ce2-b44e-ed790f764a9d",
   "metadata": {},
   "outputs": [],
   "source": [
    "df_cat=df.select_dtypes(include=object)"
   ]
  },
  {
   "cell_type": "code",
   "execution_count": 87,
   "id": "edf4e5f9-c0da-4ffc-9e7a-f67627c0ee64",
   "metadata": {},
   "outputs": [],
   "source": [
    "df_num=df.select_dtypes(exclude=object)"
   ]
  },
  {
   "cell_type": "code",
   "execution_count": 88,
   "id": "845f4cba-6973-4d7e-9ce1-cea24ad8d95a",
   "metadata": {},
   "outputs": [
    {
     "data": {
      "text/plain": [
       "Index(['Maker', 'model', 'Location', 'Owner Type', 'transmission',\n",
       "       'fuel_type'],\n",
       "      dtype='object')"
      ]
     },
     "execution_count": 88,
     "metadata": {},
     "output_type": "execute_result"
    }
   ],
   "source": [
    "df_cat.columns"
   ]
  },
  {
   "cell_type": "code",
   "execution_count": 89,
   "id": "72b6b230-a5b4-4b46-b374-429f803a15b5",
   "metadata": {},
   "outputs": [
    {
     "data": {
      "text/plain": [
       "Index(['Id', 'Distance ', 'manufacture_year', 'Age of car',\n",
       "       'engine_displacement', 'engine_power', 'Vroom Audit Rating',\n",
       "       'door_count', 'seat_count'],\n",
       "      dtype='object')"
      ]
     },
     "execution_count": 89,
     "metadata": {},
     "output_type": "execute_result"
    }
   ],
   "source": [
    "\n",
    "\n",
    "\n",
    "\n",
    "\n",
    "df_num.columns"
   ]
  },
  {
   "cell_type": "code",
   "execution_count": 90,
   "id": "201e9f3b-2205-40ce-aff3-e2aa649f0c8d",
   "metadata": {},
   "outputs": [],
   "source": [
    "from sklearn.preprocessing import LabelEncoder\n",
    "le=LabelEncoder()"
   ]
  },
  {
   "cell_type": "code",
   "execution_count": 91,
   "id": "1151b693-c299-4d5a-9deb-9bcf3fff2379",
   "metadata": {},
   "outputs": [],
   "source": [
    "df_cat['Maker']=le.fit_transform(df_cat['Maker'])"
   ]
  },
  {
   "cell_type": "code",
   "execution_count": 92,
   "id": "97dafc6a-074a-4a11-aff8-6af5e9eb7939",
   "metadata": {},
   "outputs": [],
   "source": [
    "df_cat['model']=le.fit_transform(df_cat['model'])"
   ]
  },
  {
   "cell_type": "code",
   "execution_count": 93,
   "id": "754f3a97-eed5-41d0-9a94-b4e3843fbfe7",
   "metadata": {},
   "outputs": [],
   "source": [
    "df_cat['Location']=le.fit_transform(df_cat['Location'])"
   ]
  },
  {
   "cell_type": "code",
   "execution_count": 94,
   "id": "4c059aff-2d31-4280-aeb3-02cc5d3333a1",
   "metadata": {},
   "outputs": [],
   "source": [
    "df_cat['Owner Type']=le.fit_transform(df_cat['Owner Type'])"
   ]
  },
  {
   "cell_type": "code",
   "execution_count": 95,
   "id": "71e1b558-8585-4e62-9cfa-6f1c1d96fb9c",
   "metadata": {},
   "outputs": [],
   "source": [
    "df_cat['transmission']=le.fit_transform(df_cat['transmission'])"
   ]
  },
  {
   "cell_type": "code",
   "execution_count": 96,
   "id": "fb83d9e0-1d55-4fda-b92a-276401c9782c",
   "metadata": {},
   "outputs": [],
   "source": [
    "df_cat['fuel_type']=le.fit_transform(df['fuel_type'])"
   ]
  },
  {
   "cell_type": "code",
   "execution_count": 97,
   "id": "88e81d8b-fe1f-49e9-8267-248a5372640b",
   "metadata": {},
   "outputs": [],
   "source": [
    "df=pd.concat([df_cat,df_num],axis=1)"
   ]
  },
  {
   "cell_type": "code",
   "execution_count": 98,
   "id": "85710350-da15-45aa-8a7b-6ed7fc83dfa9",
   "metadata": {},
   "outputs": [
    {
     "data": {
      "image/png": "[encoded data removed]",
      "text/plain": [
       "<Figure size 2000x800 with 1 Axes>"
      ]
     },
     "metadata": {},
     "output_type": "display_data"
    }
   ],
   "source": [
    "df.boxplot(figsize=(20,8))\n",
    "plt.show()"
   ]
  },
  {
   "cell_type": "code",
   "execution_count": 99,
   "id": "381415ff-0daf-465f-9f8e-533a36331d8a",
   "metadata": {},
   "outputs": [
    {
     "data": {
      "text/plain": [
       "Index(['Maker', 'model', 'Location', 'Owner Type', 'transmission', 'fuel_type',\n",
       "       'Id', 'Distance ', 'manufacture_year', 'Age of car',\n",
       "       'engine_displacement', 'engine_power', 'Vroom Audit Rating',\n",
       "       'door_count', 'seat_count'],\n",
       "      dtype='object')"
      ]
     },
     "execution_count": 99,
     "metadata": {},
     "output_type": "execute_result"
    }
   ],
   "source": [
    "df.columns"
   ]
  },
  {
   "cell_type": "code",
   "execution_count": 100,
   "id": "85948f85-fef2-4ce0-9bbb-85b5b726ef13",
   "metadata": {},
   "outputs": [],
   "source": [
    "df_outlayer=df[['Distance ', 'manufacture_year', 'Age of car','engine_displacement', 'engine_power','door_count', 'seat_count']]"
   ]
  },
  {
   "cell_type": "code",
   "execution_count": 101,
   "id": "819c6ca3-af07-4b2c-90c6-3fe9ef80f4f1",
   "metadata": {},
   "outputs": [],
   "source": [
    "df_nonoutlayer=df[['Maker', 'model', 'Location', 'Owner Type', 'transmission', 'fuel_type',\n",
    "       'Id','Vroom Audit Rating']]"
   ]
  },
  {
   "cell_type": "code",
   "execution_count": 102,
   "id": "f0eecd05-ca79-4ed6-b423-9ce5e77dd7da",
   "metadata": {},
   "outputs": [
    {
     "data": {
      "image/png": "[encoded data removed]",
      "text/plain": [
       "<Figure size 640x480 with 1 Axes>"
      ]
     },
     "metadata": {},
     "output_type": "display_data"
    }
   ],
   "source": [
    "df_nonoutlayer.boxplot()\n",
    "plt.show()"
   ]
  },
  {
   "cell_type": "code",
   "execution_count": 103,
   "id": "fb568957-18d1-4257-a5c5-137e6c90db2c",
   "metadata": {},
   "outputs": [],
   "source": [
    "z=(df_outlayer-df_outlayer.mean())/df_outlayer.std()             # z=(df-df.mean())/df.std()"
   ]
  },
  {
   "cell_type": "code",
   "execution_count": 104,
   "id": "e107e3c2-0894-4118-aa0f-67ab1b35361a",
   "metadata": {},
   "outputs": [],
   "source": [
    "z_reduce=z[(z>-2)&(z<2)]"
   ]
  },
  {
   "cell_type": "code",
   "execution_count": 105,
   "id": "e493dc37-f895-45c6-9c25-3c1663048d81",
   "metadata": {},
   "outputs": [
    {
     "data": {
      "image/png": "[encoded data removed]",
      "text/plain": [
       "<Figure size 640x480 with 1 Axes>"
      ]
     },
     "metadata": {},
     "output_type": "display_data"
    }
   ],
   "source": [
    "z_reduce.boxplot()\n",
    "plt.show()"
   ]
  },
  {
   "cell_type": "code",
   "execution_count": 106,
   "id": "d0bed15b-9c86-415a-9dc5-844642f7d8e6",
   "metadata": {},
   "outputs": [
    {
     "data": {
      "text/plain": [
       "Distance                20\n",
       "manufacture_year       307\n",
       "Age of car             307\n",
       "engine_displacement     55\n",
       "engine_power           235\n",
       "door_count             432\n",
       "seat_count             169\n",
       "dtype: int64"
      ]
     },
     "execution_count": 106,
     "metadata": {},
     "output_type": "execute_result"
    }
   ],
   "source": [
    "z_reduce.isna().sum()"
   ]
  },
  {
   "cell_type": "code",
   "execution_count": 107,
   "id": "5ea00aad-f5d9-40f0-bd06-777cac1954be",
   "metadata": {},
   "outputs": [],
   "source": [
    "df=z_reduce"
   ]
  },
  {
   "cell_type": "code",
   "execution_count": 108,
   "id": "35f7bf75-0db5-40e9-b4c7-97feeb06209d",
   "metadata": {},
   "outputs": [],
   "source": [
    "# df.duplicated().sum()"
   ]
  },
  {
   "cell_type": "code",
   "execution_count": 109,
   "id": "849fc5f9-fb1e-42bf-a676-c54209ba4b9f",
   "metadata": {},
   "outputs": [],
   "source": [
    "df['Distance '].fillna(df['Distance '].median(),inplace=True)"
   ]
  },
  {
   "cell_type": "code",
   "execution_count": 110,
   "id": "ebec46ab-3177-42d4-b3da-b0ac785b9ecc",
   "metadata": {},
   "outputs": [],
   "source": [
    "df['manufacture_year'].fillna(df['manufacture_year'].median(),inplace=True)"
   ]
  },
  {
   "cell_type": "code",
   "execution_count": 111,
   "id": "da9fa56e-9c31-49a7-ad65-9785e7063c6f",
   "metadata": {},
   "outputs": [],
   "source": [
    "df['Age of car'].fillna(df['Age of car'].median(),inplace=True)"
   ]
  },
  {
   "cell_type": "code",
   "execution_count": 112,
   "id": "0db7ef5c-d661-4575-b6f3-1c2128d547e9",
   "metadata": {},
   "outputs": [],
   "source": [
    "df['engine_displacement'].fillna(df['engine_displacement'].median(),inplace=True)"
   ]
  },
  {
   "cell_type": "code",
   "execution_count": 113,
   "id": "4c4d66d1-108d-4caf-a48b-3e261230e574",
   "metadata": {},
   "outputs": [],
   "source": [
    "df['engine_power'].fillna(df['engine_power'].median(),inplace=True)"
   ]
  },
  {
   "cell_type": "code",
   "execution_count": 114,
   "id": "94cec3da-620f-40cb-9d79-f7f1a5fdd3c2",
   "metadata": {},
   "outputs": [],
   "source": [
    "df['door_count'].fillna(df['door_count'].mode()[0],inplace=True)"
   ]
  },
  {
   "cell_type": "code",
   "execution_count": 115,
   "id": "6fc4e27f-2259-41bd-b40d-86e6bd07c2b3",
   "metadata": {},
   "outputs": [],
   "source": [
    "df['seat_count'].fillna(df['seat_count'].mode()[0],inplace=True)"
   ]
  },
  {
   "cell_type": "code",
   "execution_count": 116,
   "id": "a481f210-8189-40d3-846d-1bcbc541b785",
   "metadata": {},
   "outputs": [
    {
     "data": {
      "text/plain": [
       "np.int64(796)"
      ]
     },
     "execution_count": 116,
     "metadata": {},
     "output_type": "execute_result"
    }
   ],
   "source": [
    "df.duplicated().sum()"
   ]
  },
  {
   "cell_type": "code",
   "execution_count": 117,
   "id": "282f911f-a905-4b77-96ea-2ff9089b9e22",
   "metadata": {},
   "outputs": [
    {
     "data": {
      "image/png": "[encoded data removed]",
      "text/plain": [
       "<Figure size 640x480 with 1 Axes>"
      ]
     },
     "metadata": {},
     "output_type": "display_data"
    }
   ],
   "source": [
    "df.boxplot()\n",
    "plt.show()"
   ]
  },
  {
   "cell_type": "code",
   "execution_count": 118,
   "id": "071d4b7c-f782-4ebc-a99e-4c8af4ee07ac",
   "metadata": {},
   "outputs": [],
   "source": [
    "df1=pd.concat([df,df_nonoutlayer],axis=1)"
   ]
  },
  {
   "cell_type": "code",
   "execution_count": 119,
   "id": "da574819-e49d-4f8b-a11a-b26bb806a4d1",
   "metadata": {},
   "outputs": [],
   "source": [
    "from sklearn.preprocessing import MinMaxScaler\n",
    "mms=MinMaxScaler()"
   ]
  },
  {
   "cell_type": "code",
   "execution_count": 120,
   "id": "f1c64fa1-8c53-4e9f-82c4-3755cd8497e6",
   "metadata": {},
   "outputs": [],
   "source": [
    "df_norm2=pd.DataFrame(mms.fit_transform(df1),columns=df1.columns)"
   ]
  },
  {
   "cell_type": "code",
   "execution_count": 121,
   "id": "25be989a-80e6-4906-9b91-8ccf5383fd28",
   "metadata": {},
   "outputs": [
    {
     "data": {
      "text/plain": [
       "Index(['Distance ', 'manufacture_year', 'Age of car', 'engine_displacement',\n",
       "       'engine_power', 'door_count', 'seat_count', 'Maker', 'model',\n",
       "       'Location', 'Owner Type', 'transmission', 'fuel_type', 'Id',\n",
       "       'Vroom Audit Rating'],\n",
       "      dtype='object')"
      ]
     },
     "execution_count": 121,
     "metadata": {},
     "output_type": "execute_result"
    }
   ],
   "source": [
    "df_norm2.columns"
   ]
  },
  {
   "cell_type": "code",
   "execution_count": 122,
   "id": "65008d92-b222-4dab-9668-c7486bb5a20b",
   "metadata": {},
   "outputs": [],
   "source": [
    "X_test=df1[['Distance ', 'manufacture_year', 'Age of car', 'engine_displacement',\n",
    "       'engine_power', 'door_count', 'seat_count', 'Maker', 'model',\n",
    "       'Location', 'Owner Type', 'transmission', 'fuel_type', 'Id',\n",
    "       'Vroom Audit Rating']]"
   ]
  },
  {
   "cell_type": "code",
   "execution_count": null,
   "id": "214d4f08-0c48-4d00-b555-e34b2ba41798",
   "metadata": {},
   "outputs": [],
   "source": []
  },
  {
   "cell_type": "code",
   "execution_count": 7,
   "id": "716180fd-7f0d-42c0-a1e5-378735fca2b8",
   "metadata": {},
   "outputs": [
    {
     "ename": "NameError",
     "evalue": "name 'model' is not defined",
     "output_type": "error",
     "traceback": [
      "\u001b[1;31m---------------------------------------------------------------------------\u001b[0m",
      "\u001b[1;31mNameError\u001b[0m                                 Traceback (most recent call last)",
      "Cell \u001b[1;32mIn[7], line 1\u001b[0m\n\u001b[1;32m----> 1\u001b[0m \u001b[43mmodel\u001b[49m\u001b[38;5;241m.\u001b[39mfit(X,y)\n\u001b[0;32m      2\u001b[0m y_test\u001b[38;5;241m=\u001b[39mmodel\u001b[38;5;241m.\u001b[39mpredict(X_test)\n",
      "\u001b[1;31mNameError\u001b[0m: name 'model' is not defined"
     ]
    }
   ],
   "source": [
    "model.fit(X,y)\n",
    "y_test=model.predict(X_test)"
   ]
  },
  {
   "cell_type": "code",
   "execution_count": null,
   "id": "fb9afd67-cf6a-46d7-a42f-249176d97d63",
   "metadata": {},
   "outputs": [],
   "source": [
    "Y_test=pd.DataFrame(y_test,columns=['Price'])"
   ]
  },
  {
   "cell_type": "code",
   "execution_count": null,
   "id": "f75c32e6-1e7f-404f-ba96-b208aa074f4a",
   "metadata": {},
   "outputs": [],
   "source": [
    "df=pd.concat([df_nonoutlayer['Id'],Y_test],axis=1)"
   ]
  },
  {
   "cell_type": "code",
   "execution_count": 86,
   "id": "22b2e637-573e-42ab-8424-7d936fbbba2f",
   "metadata": {},
   "outputs": [],
   "source": [
    "df.to_csv('predicted_price.csv')"
   ]
  },
  {
   "cell_type": "code",
   "execution_count": 88,
   "id": "4fa13d0f-1fca-4f5e-9a21-d87290e8a558",
   "metadata": {},
   "outputs": [
    {
     "data": {
      "text/plain": [
       "0.723522569258759"
      ]
     },
     "execution_count": 88,
     "metadata": {},
     "output_type": "execute_result"
    }
   ],
   "source": [
    "model.score(X,y)"
   ]
  },
  {
   "cell_type": "code",
   "execution_count": null,
   "id": "3740cc74-f3b3-4ee2-9741-93416c803e2f",
   "metadata": {},
   "outputs": [],
   "source": []
  },
  {
   "cell_type": "code",
   "execution_count": null,
   "id": "ae5d6cd9-af3b-4ec7-9b63-5279a4879b27",
   "metadata": {},
   "outputs": [],
   "source": []
  },
  {
   "cell_type": "code",
   "execution_count": null,
   "id": "54d854b0-612a-4adf-bdc4-3744cee5f512",
   "metadata": {},
   "outputs": [],
   "source": []
  },
  {
   "cell_type": "code",
   "execution_count": null,
   "id": "d25e5c8c-4111-4532-82ff-0173deac7528",
   "metadata": {},
   "outputs": [],
   "source": []
  },
  {
   "cell_type": "code",
   "execution_count": null,
   "id": "c092315d-9413-4185-a0d5-40dd367d9eaa",
   "metadata": {},
   "outputs": [],
   "source": []
  },
  {
   "cell_type": "code",
   "execution_count": null,
   "id": "69807d4a-ce24-47a8-9ae6-d9039ff1cdca",
   "metadata": {},
   "outputs": [],
   "source": []
  },
  {
   "cell_type": "code",
   "execution_count": null,
   "id": "baf2a51b-86e7-48a4-b9f0-dd06a647fdd9",
   "metadata": {},
   "outputs": [],
   "source": []
  }
 ],
 "metadata": {
  "kernelspec": {
   "display_name": "Python 3 (ipykernel)",
   "language": "python",
   "name": "python3"
  },
  "language_info": {
   "codemirror_mode": {
    "name": "ipython",
    "version": 3
   },
   "file_extension": ".py",
   "mimetype": "text/x-python",
   "name": "python",
   "nbconvert_exporter": "python",
   "pygments_lexer": "ipython3",
   "version": "3.12.5"
  }
 },
 "nbformat": 4,
 "nbformat_minor": 5
}
